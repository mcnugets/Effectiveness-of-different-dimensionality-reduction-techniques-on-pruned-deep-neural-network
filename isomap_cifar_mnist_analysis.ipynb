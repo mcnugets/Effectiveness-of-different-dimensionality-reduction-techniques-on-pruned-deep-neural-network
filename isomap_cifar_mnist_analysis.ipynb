{
 "cells": [
  {
   "cell_type": "code",
   "execution_count": 1,
   "metadata": {},
   "outputs": [],
   "source": [
    "import os\n",
    "import torch\n",
    "import torch.nn as nn\n",
    "import torch.nn.functional as F\n",
    "from torch.utils.data import DataLoader\n",
    "from torchvision import datasets, transforms\n",
    "import sklearn as sk\n",
    "from sklearn import decomposition as dec\n",
    "import torch\n",
    "import torchvision\n",
    "import torchvision.transforms as transforms\n",
    "import matplotlib.pyplot as plt\n",
    "import numpy as np\n",
    "import torch.nn.utils.prune as prune\n",
    "import sklearn.manifold as nonlin\n"
   ]
  },
  {
   "cell_type": "code",
   "execution_count": 7,
   "metadata": {},
   "outputs": [],
   "source": [
    "class NN2(nn.Module):\n",
    "    def __init__(self, is_norm=False):\n",
    "        super().__init__()\n",
    "        self.conv1 = nn.Conv2d(\n",
    "            in_channels=3, out_channels=12, kernel_size=(5, 5))\n",
    "        self.pool = nn.MaxPool2d(kernel_size=(2, 2), stride=2)\n",
    "        self.conv2 = nn.Conv2d(\n",
    "            in_channels=12, out_channels=16, kernel_size=(5, 5))\n",
    "        self.fc1 = nn.Linear(16*5*5, 120)\n",
    "        self.fc2 = nn.Linear(120, 84)\n",
    "        self.fc3 = nn.Linear(84, 10)\n",
    "        self.soft = nn.Softmax(dim=0)\n",
    "        self.is_norm = is_norm\n",
    "        # self.conv1 = nn.Conv2d(3, 6, 5)\n",
    "        # self.pool = nn.MaxPool2d(2, 2)\n",
    "        # self.conv2 = nn.Conv2d(6, 16, 5)\n",
    "        # self.fc1 = nn.Linear(16 * 5 * 5, 120)\n",
    "        # self.fc2 = nn.Linear(120, 84)\n",
    "        # self.fc3 = nn.Linear(84, 10)\n",
    "\n",
    "    def forward(self, x):\n",
    "        x = self.pool(F.relu(self.conv1(x)))\n",
    "        x = self.pool(F.relu(self.conv2(x)))\n",
    "        x = torch.flatten(x, 1)  # flatten all dimensions except batch\n",
    "        x = F.relu(self.fc1(x))\n",
    "        x = F.relu(self.fc2(x))\n",
    "        if(self.is_norm == True):\n",
    "            x = nn.functional.normalize(self.fc3(x))\n",
    "        else:\n",
    "            x = self.fc3(x)\n",
    "        return x\n"
   ]
  },
  {
   "cell_type": "code",
   "execution_count": 2,
   "metadata": {},
   "outputs": [
    {
     "name": "stdout",
     "output_type": "stream",
     "text": [
      "Files already downloaded and verified\n",
      "Files already downloaded and verified\n"
     ]
    }
   ],
   "source": [
    "transform = transforms.Compose(\n",
    "    [transforms.ToTensor(),\n",
    "     transforms.Normalize((0.5), (0.5))])\n",
    "\n",
    "batch_size = 4\n",
    "\n",
    "trainset = torchvision.datasets.CIFAR10(root='./data', train=True,\n",
    "                                        download=True, transform=transform)\n",
    "\n",
    "\n",
    "trainloader = torch.utils.data.DataLoader(trainset, batch_size=batch_size,\n",
    "                                          shuffle=True, num_workers=2)\n",
    "\n",
    "testset = torchvision.datasets.CIFAR10(root='./data', train=False,\n",
    "                                       download=True, transform=transform)\n",
    "testloader = torch.utils.data.DataLoader(testset, batch_size=batch_size,\n",
    "                                         shuffle=False, num_workers=2)\n",
    "\n",
    "classes = ('plane', 'car', 'bird', 'cat',\n",
    "           'deer', 'dog', 'frog', 'horse', 'ship', 'truck')\n",
    "\n",
    "mnist_train = torchvision.datasets.MNIST(root='./data', train=True,\n",
    "                                         download=True, transform=transform)\n",
    "mnist_test = torchvision.datasets.MNIST(root='./data', train=False,\n",
    "                                        download=True, transform=transform)\n",
    "\n",
    "trainloader_mnist = torch.utils.data.DataLoader(mnist_train, batch_size=batch_size,\n",
    "                                                shuffle=True, num_workers=2)\n",
    "testloader_mnist = torch.utils.data.DataLoader(mnist_test, batch_size=batch_size,\n",
    "                                               shuffle=True, num_workers=2)\n"
   ]
  },
  {
   "cell_type": "code",
   "execution_count": 3,
   "metadata": {},
   "outputs": [],
   "source": [
    "mnist_dataset_sample = iter(testloader_mnist)\n",
    "sample_im, sample_lbl = mnist_dataset_sample.next()\n",
    "\n",
    "cifar_dataset_sample = iter(testloader)\n",
    "cifar_sample_im, cifar_sample_lbl = cifar_dataset_sample.next()\n"
   ]
  },
  {
   "cell_type": "code",
   "execution_count": 12,
   "metadata": {},
   "outputs": [],
   "source": [
    "def similarity(model1, model2, image):\n",
    "    original_network = model1(image)\n",
    "    small_network = model2(image)\n",
    "\n",
    "    \n",
    "    print('original network')\n",
    "    print(original_network)\n",
    "    print('small network')\n",
    "    print(small_network)\n",
    "\n",
    "    dis = torch.pairwise_distance(original_network, small_network)\n",
    "    for a in dis:\n",
    "        sim = 1/(a + 1) * 100\n",
    "        print(sim)\n",
    "\n",
    "    print('cosine similarity')\n",
    "    cos = nn.CosineSimilarity()\n",
    "    print(cos(original_network, small_network) * 100)\n"
   ]
  },
  {
   "cell_type": "code",
   "execution_count": 9,
   "metadata": {},
   "outputs": [],
   "source": [
    "path_cifar_original = './isomap_reduced_network/cifar/cifar_original_net.pt'\n",
    "path_cifar_dr_trained = './isomap_reduced_network/cifar/cifar_trained_dr_network.pt'\n",
    "path_cifar_dr_untrained = './isomap_reduced_network/cifar/cifar_untrained_dr_network.pt'\n",
    "path_cifar_dr_small_net_network = './isomap_reduced_network/cifar/cifar_small_net_scratch.pt'"
   ]
  },
  {
   "cell_type": "code",
   "execution_count": 19,
   "metadata": {},
   "outputs": [],
   "source": [
    "cifar_model_original = torch.load(path_cifar_original)\n",
    "cifar_dr_model_untrained = torch.load(path_cifar_dr_untrained)\n",
    "cifar_dr_model_trained = torch.load(path_cifar_dr_trained)\n",
    "cifar_small_network = torch.load(path_cifar_dr_small_net_network)"
   ]
  },
  {
   "cell_type": "code",
   "execution_count": 21,
   "metadata": {},
   "outputs": [
    {
     "name": "stdout",
     "output_type": "stream",
     "text": [
      "original network\n",
      "tensor([[ 0.7053, -1.6785, -0.5797,  3.5504, -2.3351,  2.1195, -1.0485, -0.5981,\n",
      "          0.6870, -1.2187],\n",
      "        [ 5.7613,  5.4604, -0.5905, -2.6626, -4.4966, -4.1544, -5.5769, -7.1222,\n",
      "         11.2656,  2.3718],\n",
      "        [ 2.1137,  3.1805, -0.5128, -0.8582, -1.8774, -1.7937, -2.4870, -2.5411,\n",
      "          1.9065,  2.2078],\n",
      "        [ 7.0270, -1.1213,  2.4684, -1.7373,  0.1265, -3.6915, -2.9764, -4.2366,\n",
      "          2.5168,  0.2512]], grad_fn=<AddmmBackward0>)\n",
      "small network\n",
      "tensor([[-2.0142, -2.4808, -0.1272,  3.6393, -0.3308,  2.7923,  0.9873, -1.2523,\n",
      "         -0.3304, -1.7410],\n",
      "        [ 5.9155,  7.4279, -1.0477, -4.8658, -3.2031, -5.6176, -4.2044, -5.5136,\n",
      "          6.8849,  3.6683],\n",
      "        [ 2.6999,  2.7378,  0.4041, -1.9834, -0.8672, -2.6083, -1.8655, -2.5277,\n",
      "          2.5955,  1.8648],\n",
      "        [ 6.1695,  1.5710,  0.7067, -2.6754, -0.6255, -4.2521, -2.7747, -4.2289,\n",
      "          5.2831,  0.6445]], grad_fn=<AddmmBackward0>)\n",
      "tensor(18.8215, grad_fn=<MulBackward0>)\n",
      "tensor(13.9397, grad_fn=<MulBackward0>)\n",
      "tensor(30.2644, grad_fn=<MulBackward0>)\n",
      "tensor(18.0207, grad_fn=<MulBackward0>)\n",
      "cosine similarity\n",
      "tensor([72.5544, 93.9540, 94.1544, 91.0624], grad_fn=<MulBackward0>)\n"
     ]
    }
   ],
   "source": [
    "similarity(cifar_small_network, cifar_model_original, cifar_sample_im)\n"
   ]
  }
 ],
 "metadata": {
  "kernelspec": {
   "display_name": "Python 3.9.12 ('base')",
   "language": "python",
   "name": "python3"
  },
  "language_info": {
   "codemirror_mode": {
    "name": "ipython",
    "version": 3
   },
   "file_extension": ".py",
   "mimetype": "text/x-python",
   "name": "python",
   "nbconvert_exporter": "python",
   "pygments_lexer": "ipython3",
   "version": "3.9.12"
  },
  "orig_nbformat": 4,
  "vscode": {
   "interpreter": {
    "hash": "3f8eb618b7b569c23d3b4b5bc22124c155d58b9880b777276332025b24a4c4f7"
   }
  }
 },
 "nbformat": 4,
 "nbformat_minor": 2
}
