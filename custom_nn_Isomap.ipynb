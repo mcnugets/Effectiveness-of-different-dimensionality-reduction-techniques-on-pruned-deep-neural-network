{
 "cells": [
  {
   "cell_type": "code",
   "execution_count": 1,
   "metadata": {},
   "outputs": [],
   "source": [
    "import os\n",
    "import torch\n",
    "import torch.nn as nn\n",
    "import torch.nn.functional as F\n",
    "from torch.utils.data import DataLoader\n",
    "from torchvision import datasets, transforms\n",
    "import sklearn as sk\n",
    "from sklearn import decomposition as dec\n",
    "import torch\n",
    "import torchvision\n",
    "import torchvision.transforms as transforms\n",
    "import matplotlib.pyplot as plt\n",
    "import numpy as np\n",
    "import torch.nn.utils.prune as prune\n",
    "import sklearn.manifold as nonlin\n",
    "import copy\n",
    "import pickle as pk\n"
   ]
  },
  {
   "cell_type": "code",
   "execution_count": 2,
   "metadata": {},
   "outputs": [
    {
     "name": "stdout",
     "output_type": "stream",
     "text": [
      "Files already downloaded and verified\n",
      "Files already downloaded and verified\n"
     ]
    }
   ],
   "source": [
    "transform = transforms.Compose(\n",
    "    [transforms.ToTensor(),\n",
    "     transforms.Normalize((0.5), (0.5))])\n",
    "\n",
    "batch_size = 4\n",
    "#cifar10\n",
    "trainset_cifar = torchvision.datasets.CIFAR10(root='./data', train=True,\n",
    "                                              download=True, transform=transform)\n",
    "trainset_cifar, validset_cifar = torch.utils.data.random_split(trainset_cifar, [\n",
    "                                                               45000, 5000])\n",
    "\n",
    "\n",
    "trainloader_cifar = torch.utils.data.DataLoader(trainset_cifar, batch_size=batch_size,\n",
    "                                                shuffle=True, num_workers=2)\n",
    "validloader_cifar = torch.utils.data.DataLoader(validset_cifar, batch_size=batch_size,\n",
    "                                                shuffle=True, num_workers=2)\n",
    "\n",
    "testset_cifar = torchvision.datasets.CIFAR10(root='./data', train=False,\n",
    "                                             download=True, transform=transform)\n",
    "testloader_cifar = torch.utils.data.DataLoader(testset_cifar, batch_size=batch_size,\n",
    "                                               shuffle=False, num_workers=2)\n",
    "\n",
    "classes_cifar = ('plane', 'car', 'bird', 'cat',\n",
    "                 'deer', 'dog', 'frog', 'horse', 'ship', 'truck')\n",
    "\n",
    "\n",
    "# MNIST DATASET\n",
    "mnist_train = torchvision.datasets.MNIST(root='./data', train=True,\n",
    "                                         download=True, transform=transform)\n",
    "mnist_train, mnist_valid = torch.utils.data.random_split(mnist_train, [\n",
    "                                                         50000, 10000])\n",
    "mnist_test = torchvision.datasets.MNIST(root='./data', train=False,\n",
    "                                        download=True, transform=transform)\n",
    "\n",
    "trainloader_mnist = torch.utils.data.DataLoader(mnist_train, batch_size=batch_size,\n",
    "                                                shuffle=True, num_workers=2)\n",
    "validloader_mnist = torch.utils.data.DataLoader(mnist_valid, batch_size=batch_size,\n",
    "                                                shuffle=True, num_workers=2)\n",
    "testloader_mnist = torch.utils.data.DataLoader(mnist_test, batch_size=batch_size,\n",
    "                                               shuffle=True, num_workers=2)\n",
    "classes_mnist = ('0', '1', '2', '3',\n",
    "                 '4', '5', '6', '7', '8', '9')\n"
   ]
  },
  {
   "cell_type": "code",
   "execution_count": 92,
   "metadata": {},
   "outputs": [
    {
     "data": {
      "text/plain": [
       "NN(\n",
       "  (conv1): Conv2d(1, 12, kernel_size=(5, 5), stride=(1, 1))\n",
       "  (pool): MaxPool2d(kernel_size=2, stride=2, padding=0, dilation=1, ceil_mode=False)\n",
       "  (conv2): Conv2d(12, 16, kernel_size=(5, 5), stride=(1, 1))\n",
       "  (fc1): Linear(in_features=256, out_features=120, bias=True)\n",
       "  (fc2): Linear(in_features=120, out_features=84, bias=True)\n",
       "  (fc3): Linear(in_features=84, out_features=10, bias=True)\n",
       "  (soft): Softmax(dim=0)\n",
       ")"
      ]
     },
     "execution_count": 92,
     "metadata": {},
     "output_type": "execute_result"
    }
   ],
   "source": [
    "# path_mnist = './isomap_reduced_network/custom_nn_mnist_isomap_original.pt'\n",
    "# model_mnist = torch.load(path_mnist)\n",
    "model_mnist = NN(is_normalize=False)\n",
    "model_mnist.eval()\n"
   ]
  },
  {
   "cell_type": "code",
   "execution_count": 4,
   "metadata": {},
   "outputs": [],
   "source": [
    "def are_weights(model,weights):\n",
    "    w1,w2,w3 = weights\n",
    "    model.fc1.weight.data = w1\n",
    "    model.fc2.weight.data = w2\n",
    "    model.fc3.weight.data = w3\n",
    "    return model\n",
    "\n",
    "\n",
    "def construct_model(model, layers):\n",
    "    l1, l2, l3 = layers\n",
    "    model.fc1 = l1\n",
    "    model.fc2 = l2\n",
    "    model.fc3 = l3\n",
    "    return model\n",
    "    \n",
    "def change_dimensionality(weight, dr_method):\n",
    "    x1 = weight.detach().numpy().T\n",
    "    \n",
    "    x1 = dr_method.fit_transform(x1)\n",
    "    x1 = torch.tensor(x1.T, dtype=torch.float32)\n",
    "    print(\"x_new vector\")\n",
    "    print(x1.shape)\n",
    "    return x1\n",
    "\n",
    "    "
   ]
  },
  {
   "cell_type": "code",
   "execution_count": 42,
   "metadata": {},
   "outputs": [],
   "source": [
    "def drprojection(model, method):\n",
    "    weight_list = []\n",
    "    weight1 = model.fc1.weight\n",
    "    print('fc1 layer weight')\n",
    "\n",
    "    \n",
    "    fc1_reduced = change_dimensionality(\n",
    "        weight1, method(n_components=int(weight1.shape[0]/2)))\n",
    "    weight_list.append(fc1_reduced)\n",
    "    x2 = torch.mm(model.fc1.weight, fc1_reduced.T)\n",
    "    print(x2.shape)\n",
    "    weight2 = torch.mm(model.fc2.weight, x2)\n",
    "    print(weight2.shape)\n",
    "    weight2 = weight2.reshape(42,-1)\n",
    "    fc2_reduced = change_dimensionality(\n",
    "        weight2, method(n_components=int(weight2.shape[0]/2)))\n",
    "    print('fc2 layer weight')\n",
    "    print(fc2_reduced.shape)\n",
    "    fc2_reduced = fc2_reduced.reshape(42,-1)\n",
    "    weight_list.append(fc2_reduced)\n",
    "    weight2 = weight2.reshape(84,-1)\n",
    "    x3_reduced = torch.mm(weight2, fc2_reduced.T)\n",
    "\n",
    "    fc3_reduced = torch.mm(model.fc3.weight, x3_reduced)\n",
    "    print('fc3 layer weight')\n",
    "    print(fc3_reduced.shape)\n",
    "    weight_list.append(fc3_reduced)\n",
    "\n",
    "    return weight_list\n"
   ]
  },
  {
   "cell_type": "code",
   "execution_count": 6,
   "metadata": {},
   "outputs": [],
   "source": [
    "def average_accuracy(net, dataset):\n",
    "    correct = 0\n",
    "    total = 0\n",
    "    # since we're not training, we don't need to calculate the gradients for our outputs\n",
    "    with torch.no_grad():\n",
    "        for data in dataset:\n",
    "            images, labels = data\n",
    "            # calculate outputs by running images through the network\n",
    "            outputs = net(images)\n",
    "            # the class with the highest energy is what we choose as prediction\n",
    "            _, predicted = torch.max(outputs.data, 1)\n",
    "            total += labels.size(0)\n",
    "            correct += (predicted == labels).sum().item()\n",
    "\n",
    "    print(\n",
    "        f'Accuracy of the network on the 10000 test images: {100 * correct // total} %')\n"
   ]
  },
  {
   "cell_type": "code",
   "execution_count": 7,
   "metadata": {},
   "outputs": [],
   "source": [
    "def every_class_accuracy(model, testloader, classes):\n",
    "    cor_pred = {classname: 0 for classname in classes}\n",
    "    t_pred = {classname: 0 for classname in classes}\n",
    "    with torch.no_grad():\n",
    "        for data in testloader:\n",
    "            im, labels = data\n",
    "            output = model(im)\n",
    "            _, predictions = torch.max(output, dim=1)\n",
    "            for label, prediction in zip(labels, predictions):\n",
    "                if label == prediction:\n",
    "                    cor_pred[classes[label]] += 1\n",
    "                t_pred[classes[label]] += 1\n",
    "    \n",
    "    for classname, correct_count in cor_pred.items():\n",
    "        accuracy = 100 * float(correct_count) / t_pred[classname]\n",
    "        print(f'Accuracy for class: {classname:5s} is {accuracy:.1f} %')\n",
    "\n",
    "        "
   ]
  },
  {
   "attachments": {},
   "cell_type": "markdown",
   "metadata": {},
   "source": [
    "# Training function "
   ]
  },
  {
   "cell_type": "code",
   "execution_count": 66,
   "metadata": {},
   "outputs": [],
   "source": [
    "from torch.profiler import profile, record_function, ProfilerActivity\n",
    "import torch.optim as optim\n",
    "\n",
    "\n",
    "def training(model, trainset,valset, n, filename):\n",
    "    device = torch.device('cuda:0' if torch.cuda.is_available() else 'cpu')\n",
    "    running_loss = 0.0\n",
    "    total = 0.0\n",
    "    correct = 0.0\n",
    "    loss_nodr = []\n",
    "    acc_nodr = []\n",
    "    \n",
    "    val_loss_nodr = []\n",
    "\n",
    "    val_acc_nodr = []\n",
    "  \n",
    "\n",
    "    criterion = nn.CrossEntropyLoss()\n",
    "    optimizer = optim.SGD(model.parameters(), lr=0.001, momentum=0.9)\n",
    "    print(optimizer)\n",
    "\n",
    "    for epoch in range(n):\n",
    "\n",
    "        print('epoch:', epoch)\n",
    "        for i, data in enumerate(trainset):\n",
    "\n",
    "            inputs, labels = data\n",
    "            inputs = inputs.to(device)\n",
    "            labels = labels.to(device)\n",
    "\n",
    "            optimizer.zero_grad(True)\n",
    "            with torch.set_grad_enabled(True):\n",
    "                with profile(activities=[ProfilerActivity.CPU, ProfilerActivity.CUDA]) as prof:\n",
    "                 outputs = model(inputs).to(device)\n",
    "                loss = criterion(outputs, labels)\n",
    "                loss.backward()\n",
    "                optimizer.step()\n",
    "                _, predicted = torch.max(outputs.data, 1)\n",
    "                total += labels.size(0)\n",
    "                correct += (predicted == labels).sum().item()\n",
    "                running_loss += loss.item()\n",
    "        model.eval()\n",
    "        val_loss = 0.0\n",
    "        total_val=0.0\n",
    "        correct_val = 0.0\n",
    "\n",
    "        for i, data in enumerate(valset):\n",
    "\n",
    "            inputs, labels2 = data\n",
    "            inputs = inputs.to(device)\n",
    "            labels2 = labels2.to(device)\n",
    "            val_output  = model(inputs)\n",
    "            loss = criterion(val_output, labels2)\n",
    "            val_loss+=loss.item()\n",
    "            total_val+=labels2.size(0)\n",
    "            _, pred = torch.max(val_output.data, 1)\n",
    "            correct_val += (pred == labels2).sum().item()\n",
    "\n",
    "            \n",
    "            \n",
    "        train_loss = running_loss/len(trainset)\n",
    "        acc_temp = 100 * correct / total\n",
    "\n",
    "        valid_loss_temp = val_loss/len(valset)\n",
    "        valid_acc_temp = (100 * correct_val)/total_val\n",
    "        loss_nodr.append(train_loss)\n",
    "        acc_nodr.append(acc_temp)\n",
    "\n",
    "        val_loss_nodr.append(valid_loss_temp)\n",
    "        val_acc_nodr.append(valid_acc_temp)\n",
    "        print(\n",
    "            f'[{epoch + 1}, {i + 1:5d}] train loss: {train_loss:.3f} train acc: {acc_temp:.3f}', \n",
    "            f'valid acc: {valid_acc_temp:.3f} valid loss  {valid_loss_temp:.3f} ')\n",
    "        \n",
    "        running_loss = 0.0\n",
    "        correct = 0.0\n",
    "        total = 0.0\n",
    "\n",
    "    print('Finished Training')\n",
    "    pickle_accloss(acc_nodr, loss_nodr,val_acc_nodr,val_loss_nodr,  filename)\n",
    "\n",
    "    \n",
    "def pickle_accloss(acc, loss,valid_acc, valid_loss, filename):\n",
    "    accandloss = {'accuracy' : acc, 'loss' : loss, 'valid acc' : valid_acc, 'valid loss': valid_loss}\n",
    "    with open('./data_vis/isomap/{}.pickle'.format(filename), 'wb') as ica_acc_and_loss:\n",
    "        pk.dump(accandloss, ica_acc_and_loss)\n",
    "    print('Saved dictionary of loss and accuracy!')\n",
    "\n"
   ]
  },
  {
   "attachments": {},
   "cell_type": "markdown",
   "metadata": {},
   "source": [
    "# MNIST \n"
   ]
  },
  {
   "cell_type": "code",
   "execution_count": 9,
   "metadata": {},
   "outputs": [],
   "source": [
    "class NN(nn.Module):\n",
    "    def __init__(self, is_normalize):\n",
    "        super().__init__()\n",
    "        self.conv1 = nn.Conv2d(\n",
    "            in_channels=1, out_channels=12, kernel_size=(5, 5))\n",
    "        self.pool = nn.MaxPool2d(kernel_size=(2), stride=2)\n",
    "        self.conv2 = nn.Conv2d(\n",
    "            in_channels=12, out_channels=16, kernel_size=(5, 5))\n",
    "        self.fc1 = nn.Linear(256, 120) # 256x 60\n",
    "        self.fc2 = nn.Linear(120, 84) # 60 x 84\n",
    "        self.fc3 = nn.Linear(84, 10)\n",
    "        self.soft = nn.Softmax(dim=0)\n",
    "        self.norm = is_normalize\n",
    "\n",
    "        # self.conv1 = nn.Conv2d(3, 6, 5)\n",
    "        # self.pool = nn.MaxPool2d(2, 2)\n",
    "        # self.conv2 = nn.Conv2d(6, 16, 5)\n",
    "        # self.fc1 = nn.Linear(16 * 5 * 5, 120)\n",
    "        # self.fc2 = nn.Linear(120, 84)\n",
    "        # self.fc3 = nn.Linear(84, 10)\n",
    "\n",
    "    def forward(self, x):\n",
    "        x = self.pool(F.relu(self.conv1(x)))\n",
    "        x = self.pool(F.relu(self.conv2(x)))\n",
    "        x = torch.flatten(x, 1)  # flatten all dimensions except batch\n",
    "        x = F.relu(self.fc1(x))\n",
    "        x = F.relu(self.fc2(x))\n",
    "        if(self.norm==True):\n",
    "         x = nn.functional.normalize(self.fc3(x))\n",
    "        else:\n",
    "         x = self.fc3(x)\n",
    "         \n",
    "        # x = self.soft(x)\n",
    "        return x\n",
    "    "
   ]
  },
  {
   "cell_type": "code",
   "execution_count": 48,
   "metadata": {},
   "outputs": [],
   "source": [
    "path_original_net_mnist = './isomap_reduced_network/mnist/original_network_mnist.pt'\n",
    "mnist_original_net = torch.load(path_original_net_mnist)"
   ]
  },
  {
   "cell_type": "code",
   "execution_count": 58,
   "metadata": {},
   "outputs": [],
   "source": [
    "mnist_original_net = NN(is_normalize=True)"
   ]
  },
  {
   "cell_type": "code",
   "execution_count": 49,
   "metadata": {},
   "outputs": [
    {
     "name": "stdout",
     "output_type": "stream",
     "text": [
      "Accuracy of the network on the 10000 test images: 99 %\n",
      "Accuracy for class: 0     is 99.2 %\n",
      "Accuracy for class: 1     is 99.5 %\n",
      "Accuracy for class: 2     is 99.0 %\n",
      "Accuracy for class: 3     is 98.6 %\n",
      "Accuracy for class: 4     is 98.8 %\n",
      "Accuracy for class: 5     is 99.2 %\n",
      "Accuracy for class: 6     is 98.7 %\n",
      "Accuracy for class: 7     is 99.5 %\n",
      "Accuracy for class: 8     is 99.5 %\n",
      "Accuracy for class: 9     is 98.1 %\n"
     ]
    }
   ],
   "source": [
    "average_accuracy(mnist_original_net, testloader_mnist)\n",
    "every_class_accuracy(mnist_original_net, testloader_mnist, classes_mnist)"
   ]
  },
  {
   "cell_type": "code",
   "execution_count": 60,
   "metadata": {},
   "outputs": [
    {
     "name": "stdout",
     "output_type": "stream",
     "text": [
      "SGD (\n",
      "Parameter Group 0\n",
      "    dampening: 0\n",
      "    foreach: None\n",
      "    lr: 0.001\n",
      "    maximize: False\n",
      "    momentum: 0.9\n",
      "    nesterov: False\n",
      "    weight_decay: 0\n",
      ")\n",
      "epoch: 0\n"
     ]
    },
    {
     "name": "stderr",
     "output_type": "stream",
     "text": [
      "c:\\Users\\sulta\\anaconda3\\lib\\site-packages\\torch\\autograd\\profiler.py:160: UserWarning: CUDA is not available, disabling CUDA profiling\n",
      "  warn(\"CUDA is not available, disabling CUDA profiling\")\n"
     ]
    },
    {
     "name": "stdout",
     "output_type": "stream",
     "text": [
      "[1,  2500] train loss: 1.491 train acc: 94.594 valid acc: 97.650 valid loss  1.447 \n",
      "epoch: 1\n",
      "[2,  2500] train loss: 1.443 train acc: 97.926 valid acc: 97.930 valid loss  1.444 \n",
      "epoch: 2\n",
      "[3,  2500] train loss: 1.438 train acc: 98.350 valid acc: 98.310 valid loss  1.437 \n",
      "epoch: 3\n",
      "[4,  2500] train loss: 1.434 train acc: 98.646 valid acc: 98.550 valid loss  1.435 \n",
      "epoch: 4\n",
      "[5,  2500] train loss: 1.432 train acc: 98.880 valid acc: 98.930 valid loss  1.431 \n",
      "Finished Training\n",
      "Saved dictionary of loss and accuracy!\n"
     ]
    }
   ],
   "source": [
    "training(mnist_original_net, trainloader_mnist, validloader_mnist,5, 'mnist_original_accloss')"
   ]
  },
  {
   "attachments": {},
   "cell_type": "markdown",
   "metadata": {},
   "source": [
    "## Here we perform dimensional reduction of the original network"
   ]
  },
  {
   "cell_type": "code",
   "execution_count": 61,
   "metadata": {},
   "outputs": [
    {
     "name": "stdout",
     "output_type": "stream",
     "text": [
      "fc1 layer weight\n",
      "x_new vector\n",
      "torch.Size([60, 256])\n",
      "torch.Size([120, 60])\n",
      "torch.Size([84, 60])\n",
      "x_new vector\n",
      "torch.Size([21, 120])\n",
      "fc2 layer weight\n",
      "torch.Size([21, 120])\n",
      "fc3 layer weight\n",
      "torch.Size([10, 42])\n"
     ]
    },
    {
     "data": {
      "text/plain": [
       "NN(\n",
       "  (conv1): Conv2d(1, 12, kernel_size=(5, 5), stride=(1, 1))\n",
       "  (pool): MaxPool2d(kernel_size=2, stride=2, padding=0, dilation=1, ceil_mode=False)\n",
       "  (conv2): Conv2d(12, 16, kernel_size=(5, 5), stride=(1, 1))\n",
       "  (fc1): Linear(in_features=256, out_features=60, bias=False)\n",
       "  (fc2): Linear(in_features=60, out_features=42, bias=False)\n",
       "  (fc3): Linear(in_features=42, out_features=10, bias=False)\n",
       "  (soft): Softmax(dim=0)\n",
       ")"
      ]
     },
     "execution_count": 61,
     "metadata": {},
     "output_type": "execute_result"
    }
   ],
   "source": [
    "isomap_mnist_network = copy.deepcopy(mnist_original_net)\n",
    "mnist_weight_list = drprojection(\n",
    "    mnist_original_net, nonlin.Isomap)\n",
    "isomap_mnist_layers = (nn.Linear(256, 60, False), nn.Linear(60, 42, False), nn.Linear(42, 10, False))\n",
    "isomap_mnist_network = construct_model(mnist_original_net, isomap_mnist_layers)\n",
    "isomap_mnist_network = are_weights(isomap_mnist_network, tuple(mnist_weight_list))\n",
    "isomap_mnist_network.eval()"
   ]
  },
  {
   "cell_type": "code",
   "execution_count": 62,
   "metadata": {},
   "outputs": [
    {
     "name": "stdout",
     "output_type": "stream",
     "text": [
      "Accuracy of the network on the 10000 test images: 35 %\n"
     ]
    }
   ],
   "source": [
    "average_accuracy(isomap_mnist_network, testloader_mnist)\n"
   ]
  },
  {
   "cell_type": "code",
   "execution_count": 63,
   "metadata": {},
   "outputs": [],
   "source": [
    "path_isomap_net = './isomap_reduced_network/mnist/isomap_mnsit_network.pt'\n",
    "torch.save(isomap_mnist_network, path_isomap_net)\n"
   ]
  },
  {
   "attachments": {},
   "cell_type": "markdown",
   "metadata": {},
   "source": [
    "## RETRAINING DR NETWORK"
   ]
  },
  {
   "cell_type": "code",
   "execution_count": 64,
   "metadata": {},
   "outputs": [
    {
     "data": {
      "text/plain": [
       "NN(\n",
       "  (conv1): Conv2d(1, 12, kernel_size=(5, 5), stride=(1, 1))\n",
       "  (pool): MaxPool2d(kernel_size=2, stride=2, padding=0, dilation=1, ceil_mode=False)\n",
       "  (conv2): Conv2d(12, 16, kernel_size=(5, 5), stride=(1, 1))\n",
       "  (fc1): Linear(in_features=256, out_features=60, bias=False)\n",
       "  (fc2): Linear(in_features=60, out_features=42, bias=False)\n",
       "  (fc3): Linear(in_features=42, out_features=10, bias=False)\n",
       "  (soft): Softmax(dim=0)\n",
       ")"
      ]
     },
     "execution_count": 64,
     "metadata": {},
     "output_type": "execute_result"
    }
   ],
   "source": [
    "isomap_mnist_network_retrained = copy.deepcopy(isomap_mnist_network)\n",
    "isomap_mnist_network_retrained.eval()\n"
   ]
  },
  {
   "cell_type": "code",
   "execution_count": 65,
   "metadata": {},
   "outputs": [
    {
     "name": "stdout",
     "output_type": "stream",
     "text": [
      "SGD (\n",
      "Parameter Group 0\n",
      "    dampening: 0\n",
      "    foreach: None\n",
      "    lr: 0.001\n",
      "    maximize: False\n",
      "    momentum: 0.9\n",
      "    nesterov: False\n",
      "    weight_decay: 0\n",
      ")\n",
      "epoch: 0\n"
     ]
    },
    {
     "name": "stderr",
     "output_type": "stream",
     "text": [
      "c:\\Users\\sulta\\anaconda3\\lib\\site-packages\\torch\\autograd\\profiler.py:160: UserWarning: CUDA is not available, disabling CUDA profiling\n",
      "  warn(\"CUDA is not available, disabling CUDA profiling\")\n"
     ]
    },
    {
     "name": "stdout",
     "output_type": "stream",
     "text": [
      "[1,  2500] train loss: 1.693 train acc: 87.502 valid acc: 95.240 valid loss  1.573 \n",
      "epoch: 1\n",
      "[2,  2500] train loss: 1.538 train acc: 96.250 valid acc: 96.920 valid loss  1.514 \n",
      "epoch: 2\n",
      "[3,  2500] train loss: 1.506 train acc: 97.178 valid acc: 97.300 valid loss  1.497 \n",
      "epoch: 3\n",
      "[4,  2500] train loss: 1.491 train acc: 97.602 valid acc: 97.580 valid loss  1.485 \n",
      "epoch: 4\n",
      "[5,  2500] train loss: 1.481 train acc: 97.866 valid acc: 97.740 valid loss  1.476 \n",
      "Finished Training\n",
      "Saved dictionary of loss and accuracy!\n"
     ]
    }
   ],
   "source": [
    "training(isomap_mnist_network_retrained,trainloader_mnist, validloader_mnist, 5, 'isomap_accuracy_loss')"
   ]
  },
  {
   "cell_type": "code",
   "execution_count": 85,
   "metadata": {},
   "outputs": [],
   "source": [
    "path_isomap_network_retrained_mnist = './isomap_reduced_network/mnist/reduced_isomap_retrained.pt'\n",
    "torch.save(isomap_mnist_network_retrained, path_isomap_network_retrained_mnist)"
   ]
  },
  {
   "cell_type": "code",
   "execution_count": 74,
   "metadata": {},
   "outputs": [],
   "source": [
    "mnist_original_net = torch.load(path_original_net_mnist)"
   ]
  },
  {
   "attachments": {},
   "cell_type": "markdown",
   "metadata": {},
   "source": [
    "## Pruning network"
   ]
  },
  {
   "cell_type": "code",
   "execution_count": 76,
   "metadata": {},
   "outputs": [],
   "source": [
    "def prune_function(model, amount_to_prune):\n",
    "    module_lits = []\n",
    "    for module in model.modules():\n",
    "        if isinstance(module, nn.Linear):\n",
    "            module_lits.append((module, 'weight'))\n",
    "    prune.global_unstructured(\n",
    "        module_lits,\n",
    "        pruning_method=prune.RandomUnstructured,\n",
    "        amount=amount_to_prune\n",
    "    )\n"
   ]
  },
  {
   "cell_type": "code",
   "execution_count": 77,
   "metadata": {},
   "outputs": [],
   "source": [
    "pruned_original_mnist_net = copy.deepcopy(mnist_original_net)\n",
    "prune_function(pruned_original_mnist_net, 0.5)\n"
   ]
  },
  {
   "cell_type": "code",
   "execution_count": 78,
   "metadata": {},
   "outputs": [
    {
     "name": "stdout",
     "output_type": "stream",
     "text": [
      "Accuracy of the network on the 10000 test images: 68 %\n"
     ]
    }
   ],
   "source": [
    "average_accuracy(pruned_original_mnist_net, testloader_mnist)\n"
   ]
  },
  {
   "cell_type": "code",
   "execution_count": 79,
   "metadata": {},
   "outputs": [],
   "source": [
    "path_pruned_network = './isomap_reduced_network/mnist/pruned/pruned_original_network.pt'\n",
    "torch.save(pruned_original_mnist_net,path_pruned_network)"
   ]
  },
  {
   "cell_type": "code",
   "execution_count": 80,
   "metadata": {},
   "outputs": [],
   "source": [
    "isomap_pruned_mnist_net = copy.deepcopy(pruned_original_mnist_net)"
   ]
  },
  {
   "attachments": {},
   "cell_type": "markdown",
   "metadata": {},
   "source": [
    "## dr and pruning network"
   ]
  },
  {
   "cell_type": "code",
   "execution_count": 82,
   "metadata": {},
   "outputs": [
    {
     "name": "stdout",
     "output_type": "stream",
     "text": [
      "fc1 layer weight\n",
      "x_new vector\n",
      "torch.Size([60, 256])\n",
      "torch.Size([120, 60])\n",
      "torch.Size([84, 60])\n",
      "x_new vector\n",
      "torch.Size([21, 120])\n",
      "fc2 layer weight\n",
      "torch.Size([21, 120])\n",
      "fc3 layer weight\n",
      "torch.Size([10, 42])\n"
     ]
    },
    {
     "data": {
      "text/plain": [
       "NN(\n",
       "  (conv1): Conv2d(1, 12, kernel_size=(5, 5), stride=(1, 1))\n",
       "  (pool): MaxPool2d(kernel_size=2, stride=2, padding=0, dilation=1, ceil_mode=False)\n",
       "  (conv2): Conv2d(12, 16, kernel_size=(5, 5), stride=(1, 1))\n",
       "  (fc1): Linear(in_features=256, out_features=60, bias=False)\n",
       "  (fc2): Linear(in_features=60, out_features=42, bias=False)\n",
       "  (fc3): Linear(in_features=42, out_features=10, bias=False)\n",
       "  (soft): Softmax(dim=0)\n",
       ")"
      ]
     },
     "execution_count": 82,
     "metadata": {},
     "output_type": "execute_result"
    }
   ],
   "source": [
    "mnist_weight_list_pruned = drprojection(\n",
    "    isomap_pruned_mnist_net, nonlin.Isomap)\n",
    "isomap_mnist_layers_pruned = (nn.Linear(256, 60, False), nn.Linear(\n",
    "    60, 42, False), nn.Linear(42, 10, False))\n",
    "isomap_pruned_mnist_net = construct_model(\n",
    "    isomap_pruned_mnist_net, isomap_mnist_layers_pruned)\n",
    "isomap_pruned_mnist_net = are_weights(\n",
    "    isomap_pruned_mnist_net, tuple(mnist_weight_list_pruned))\n",
    "isomap_pruned_mnist_net.eval()\n"
   ]
  },
  {
   "cell_type": "code",
   "execution_count": 83,
   "metadata": {},
   "outputs": [
    {
     "name": "stdout",
     "output_type": "stream",
     "text": [
      "Accuracy of the network on the 10000 test images: 23 %\n"
     ]
    }
   ],
   "source": [
    "average_accuracy(isomap_pruned_mnist_net, testloader_mnist)"
   ]
  },
  {
   "cell_type": "code",
   "execution_count": 84,
   "metadata": {},
   "outputs": [],
   "source": [
    "path_isomap_pruned_network_mnist = './isomap_reduced_network/mnist/pruned/isomap_pruned_network_mnist.pt'\n",
    "torch.save(isomap_pruned_mnist_net, path_isomap_pruned_network_mnist)"
   ]
  },
  {
   "attachments": {},
   "cell_type": "markdown",
   "metadata": {},
   "source": [
    "## cifar10 network\n"
   ]
  },
  {
   "cell_type": "code",
   "execution_count": 96,
   "metadata": {},
   "outputs": [],
   "source": [
    "class NN2(nn.Module):\n",
    "    def __init__(self, is_norm=False):\n",
    "        super().__init__()\n",
    "        self.conv1 = nn.Conv2d(\n",
    "            in_channels=3, out_channels=12, kernel_size=(5, 5))\n",
    "        self.pool = nn.MaxPool2d(kernel_size=(2, 2), stride=2)\n",
    "        self.conv2 = nn.Conv2d(\n",
    "            in_channels=12, out_channels=16, kernel_size=(5, 5))\n",
    "        self.fc1 = nn.Linear(16*5*5, 120)\n",
    "        self.fc2 = nn.Linear(120, 84)\n",
    "        self.fc3 = nn.Linear(84, 10)\n",
    "        self.soft = nn.Softmax(dim=0)\n",
    "        self.is_norm = is_norm\n",
    "        # self.conv1 = nn.Conv2d(3, 6, 5)\n",
    "        # self.pool = nn.MaxPool2d(2, 2)\n",
    "        # self.conv2 = nn.Conv2d(6, 16, 5)\n",
    "        # self.fc1 = nn.Linear(16 * 5 * 5, 120)\n",
    "        # self.fc2 = nn.Linear(120, 84)\n",
    "        # self.fc3 = nn.Linear(84, 10)\n",
    "\n",
    "    def forward(self, x):\n",
    "        x = self.pool(F.relu(self.conv1(x)))\n",
    "        x = self.pool(F.relu(self.conv2(x)))\n",
    "        x = torch.flatten(x, 1)  # flatten all dimensions except batch\n",
    "        x = F.relu(self.fc1(x))\n",
    "        x = F.relu(self.fc2(x))\n",
    "        if(self.is_norm == True):\n",
    "            x = nn.functional.normalize(self.fc3(x))\n",
    "        else:\n",
    "            x = self.fc3(x)\n",
    "        return x\n"
   ]
  },
  {
   "cell_type": "code",
   "execution_count": 87,
   "metadata": {},
   "outputs": [
    {
     "name": "stdout",
     "output_type": "stream",
     "text": [
      "Accuracy of the network on the 10000 test images: 63 %\n"
     ]
    }
   ],
   "source": [
    "path_cifar_original_net = './isomap_reduced_network/cifar/cifar_original_net.pt'\n",
    "# cifar_original_net = torch.load(path_cifar_original_net)\n",
    "# cifar_original_net.eval()\n",
    "cifar_original_net = torch.load(path_cifar_original_net)\n",
    "average_accuracy(cifar_original_net, testloader_cifar)"
   ]
  },
  {
   "cell_type": "code",
   "execution_count": 98,
   "metadata": {},
   "outputs": [
    {
     "name": "stdout",
     "output_type": "stream",
     "text": [
      "SGD (\n",
      "Parameter Group 0\n",
      "    dampening: 0\n",
      "    foreach: None\n",
      "    lr: 0.001\n",
      "    maximize: False\n",
      "    momentum: 0.9\n",
      "    nesterov: False\n",
      "    weight_decay: 0\n",
      ")\n",
      "epoch: 0\n"
     ]
    },
    {
     "name": "stderr",
     "output_type": "stream",
     "text": [
      "c:\\Users\\sulta\\anaconda3\\lib\\site-packages\\torch\\autograd\\profiler.py:160: UserWarning: CUDA is not available, disabling CUDA profiling\n",
      "  warn(\"CUDA is not available, disabling CUDA profiling\")\n"
     ]
    },
    {
     "name": "stdout",
     "output_type": "stream",
     "text": [
      "[1,  1250] train loss: 1.982 train acc: 40.320 valid acc: 48.160 valid loss  1.902 \n",
      "epoch: 1\n",
      "[2,  1250] train loss: 1.855 train acc: 53.364 valid acc: 57.880 valid loss  1.818 \n",
      "epoch: 2\n",
      "[3,  1250] train loss: 1.805 train acc: 58.593 valid acc: 59.440 valid loss  1.796 \n",
      "epoch: 3\n",
      "[4,  1250] train loss: 1.773 train acc: 62.016 valid acc: 61.280 valid loss  1.774 \n",
      "epoch: 4\n",
      "[5,  1250] train loss: 1.748 train acc: 64.644 valid acc: 62.200 valid loss  1.768 \n",
      "epoch: 5\n",
      "[6,  1250] train loss: 1.728 train acc: 66.876 valid acc: 61.900 valid loss  1.771 \n",
      "epoch: 6\n",
      "[7,  1250] train loss: 1.712 train acc: 68.871 valid acc: 65.440 valid loss  1.740 \n",
      "epoch: 7\n",
      "[8,  1250] train loss: 1.699 train acc: 70.204 valid acc: 62.840 valid loss  1.764 \n",
      "epoch: 8\n",
      "[9,  1250] train loss: 1.687 train acc: 71.416 valid acc: 65.960 valid loss  1.736 \n",
      "epoch: 9\n",
      "[10,  1250] train loss: 1.676 train acc: 72.624 valid acc: 65.960 valid loss  1.735 \n",
      "Finished Training\n",
      "Saved dictionary of loss and accuracy!\n"
     ]
    }
   ],
   "source": [
    "cifar_original_net = NN2(is_norm=True)\n",
    "training(cifar_original_net, trainloader_cifar, validloader_cifar, 10, 'cifar_net_accloss')"
   ]
  },
  {
   "cell_type": "code",
   "execution_count": 99,
   "metadata": {},
   "outputs": [],
   "source": [
    "torch.save(cifar_original_net, path_cifar_original_net)"
   ]
  },
  {
   "cell_type": "code",
   "execution_count": 115,
   "metadata": {},
   "outputs": [
    {
     "name": "stdout",
     "output_type": "stream",
     "text": [
      "Accuracy of the network on the 10000 test images: 66 %\n"
     ]
    }
   ],
   "source": [
    "average_accuracy(cifar_original_net, testloader_cifar)"
   ]
  },
  {
   "attachments": {},
   "cell_type": "markdown",
   "metadata": {},
   "source": [
    "## dr reduction of cifar10"
   ]
  },
  {
   "cell_type": "code",
   "execution_count": 100,
   "metadata": {},
   "outputs": [
    {
     "name": "stdout",
     "output_type": "stream",
     "text": [
      "fc1 layer weight\n",
      "x_new vector\n",
      "torch.Size([60, 400])\n",
      "torch.Size([120, 60])\n",
      "torch.Size([84, 60])\n",
      "x_new vector\n",
      "torch.Size([21, 120])\n",
      "fc2 layer weight\n",
      "torch.Size([21, 120])\n",
      "fc3 layer weight\n",
      "torch.Size([10, 42])\n"
     ]
    },
    {
     "data": {
      "text/plain": [
       "NN2(\n",
       "  (conv1): Conv2d(3, 12, kernel_size=(5, 5), stride=(1, 1))\n",
       "  (pool): MaxPool2d(kernel_size=(2, 2), stride=2, padding=0, dilation=1, ceil_mode=False)\n",
       "  (conv2): Conv2d(12, 16, kernel_size=(5, 5), stride=(1, 1))\n",
       "  (fc1): Linear(in_features=256, out_features=60, bias=False)\n",
       "  (fc2): Linear(in_features=60, out_features=42, bias=False)\n",
       "  (fc3): Linear(in_features=42, out_features=10, bias=False)\n",
       "  (soft): Softmax(dim=0)\n",
       ")"
      ]
     },
     "execution_count": 100,
     "metadata": {},
     "output_type": "execute_result"
    }
   ],
   "source": [
    "isomap_cifar_network = copy.deepcopy(cifar_original_net)\n",
    "\n",
    "cifar_weight_list = drprojection(\n",
    "    isomap_cifar_network, nonlin.Isomap)\n",
    "\n",
    "cifar_mnist_layers = (nn.Linear(256, 60, False), nn.Linear(\n",
    "    60, 42, False), nn.Linear(42, 10, False))\n",
    "\n",
    "isomap_cifar_network = construct_model(\n",
    "    isomap_cifar_network, cifar_mnist_layers)\n",
    "\n",
    "isomap_cifar_network = are_weights(isomap_cifar_network, tuple(cifar_weight_list))\n",
    "isomap_cifar_network.eval()\n"
   ]
  },
  {
   "cell_type": "code",
   "execution_count": 101,
   "metadata": {},
   "outputs": [
    {
     "name": "stdout",
     "output_type": "stream",
     "text": [
      "Accuracy of the network on the 10000 test images: 18 %\n"
     ]
    }
   ],
   "source": [
    "average_accuracy(isomap_cifar_network, testloader_cifar)"
   ]
  },
  {
   "cell_type": "code",
   "execution_count": 102,
   "metadata": {},
   "outputs": [],
   "source": [
    "path_isomap_network = './isomap_reduced_network/cifar/cifar_untrained_dr_network.pt'\n",
    "torch.save(isomap_cifar_network, path_isomap_network)\n"
   ]
  },
  {
   "attachments": {},
   "cell_type": "markdown",
   "metadata": {},
   "source": [
    "## retraining cifar10"
   ]
  },
  {
   "cell_type": "code",
   "execution_count": 103,
   "metadata": {},
   "outputs": [
    {
     "name": "stdout",
     "output_type": "stream",
     "text": [
      "SGD (\n",
      "Parameter Group 0\n",
      "    dampening: 0\n",
      "    foreach: None\n",
      "    lr: 0.001\n",
      "    maximize: False\n",
      "    momentum: 0.9\n",
      "    nesterov: False\n",
      "    weight_decay: 0\n",
      ")\n",
      "epoch: 0\n"
     ]
    },
    {
     "name": "stderr",
     "output_type": "stream",
     "text": [
      "c:\\Users\\sulta\\anaconda3\\lib\\site-packages\\torch\\autograd\\profiler.py:160: UserWarning: CUDA is not available, disabling CUDA profiling\n",
      "  warn(\"CUDA is not available, disabling CUDA profiling\")\n"
     ]
    },
    {
     "name": "stdout",
     "output_type": "stream",
     "text": [
      "[1,  1250] train loss: 2.046 train acc: 34.382 valid acc: 38.680 valid loss  2.015 \n",
      "epoch: 1\n",
      "[2,  1250] train loss: 1.998 train acc: 40.556 valid acc: 42.160 valid loss  1.995 \n",
      "epoch: 2\n",
      "[3,  1250] train loss: 1.980 train acc: 43.513 valid acc: 42.700 valid loss  1.983 \n",
      "epoch: 3\n",
      "[4,  1250] train loss: 1.967 train acc: 45.436 valid acc: 44.920 valid loss  1.972 \n",
      "epoch: 4\n",
      "[5,  1250] train loss: 1.957 train acc: 47.089 valid acc: 47.560 valid loss  1.966 \n",
      "epoch: 5\n",
      "[6,  1250] train loss: 1.947 train acc: 48.864 valid acc: 49.180 valid loss  1.951 \n",
      "epoch: 6\n",
      "[7,  1250] train loss: 1.937 train acc: 50.622 valid acc: 49.820 valid loss  1.946 \n",
      "epoch: 7\n",
      "[8,  1250] train loss: 1.928 train acc: 52.060 valid acc: 51.740 valid loss  1.935 \n",
      "epoch: 8\n",
      "[9,  1250] train loss: 1.920 train acc: 53.307 valid acc: 52.440 valid loss  1.930 \n",
      "epoch: 9\n",
      "[10,  1250] train loss: 1.913 train acc: 54.558 valid acc: 54.040 valid loss  1.925 \n",
      "Finished Training\n",
      "Saved dictionary of loss and accuracy!\n"
     ]
    }
   ],
   "source": [
    "retrained_isomap_cifar_net = copy.deepcopy(isomap_cifar_network)\n",
    "training(retrained_isomap_cifar_net, trainloader_cifar, validloader_cifar, 10,'isomap_accloss')"
   ]
  },
  {
   "cell_type": "code",
   "execution_count": 104,
   "metadata": {},
   "outputs": [],
   "source": [
    "path_retrained_isomap_cifar_net = './isomap_reduced_network/cifar/cifar_trained_dr_network.pt'\n",
    "torch.save(retrained_isomap_cifar_net, path_retrained_isomap_cifar_net)"
   ]
  },
  {
   "cell_type": "code",
   "execution_count": 105,
   "metadata": {},
   "outputs": [
    {
     "name": "stdout",
     "output_type": "stream",
     "text": [
      "Accuracy of the network on the 10000 test images: 53 %\n"
     ]
    }
   ],
   "source": [
    "average_accuracy(retrained_isomap_cifar_net, testloader_cifar)"
   ]
  },
  {
   "attachments": {},
   "cell_type": "markdown",
   "metadata": {},
   "source": [
    "# Pruning of the cifar network\n"
   ]
  },
  {
   "cell_type": "code",
   "execution_count": 108,
   "metadata": {},
   "outputs": [],
   "source": [
    "pruned_cifar_net = copy.deepcopy(cifar_original_net)\n",
    "prune_function(pruned_cifar_net, 0.25)\n"
   ]
  },
  {
   "cell_type": "code",
   "execution_count": 109,
   "metadata": {},
   "outputs": [
    {
     "name": "stdout",
     "output_type": "stream",
     "text": [
      "Accuracy of the network on the 10000 test images: 60 %\n"
     ]
    }
   ],
   "source": [
    "average_accuracy(pruned_cifar_net, testloader_cifar)"
   ]
  },
  {
   "cell_type": "code",
   "execution_count": 110,
   "metadata": {},
   "outputs": [],
   "source": [
    "path_pruned_cifar_net = './isomap_reduced_network/cifar/pruned/pruned_cifar_original_net.pt'\n",
    "torch.save(pruned_cifar_net, path_pruned_cifar_net)\n"
   ]
  },
  {
   "attachments": {},
   "cell_type": "markdown",
   "metadata": {},
   "source": [
    "## dimensional reduction and prunning with cifar10"
   ]
  },
  {
   "cell_type": "code",
   "execution_count": 112,
   "metadata": {},
   "outputs": [
    {
     "name": "stdout",
     "output_type": "stream",
     "text": [
      "fc1 layer weight\n",
      "x_new vector\n",
      "torch.Size([60, 400])\n",
      "torch.Size([120, 60])\n",
      "torch.Size([84, 60])\n",
      "x_new vector\n",
      "torch.Size([21, 120])\n",
      "fc2 layer weight\n",
      "torch.Size([21, 120])\n",
      "fc3 layer weight\n",
      "torch.Size([10, 42])\n"
     ]
    },
    {
     "data": {
      "text/plain": [
       "NN2(\n",
       "  (conv1): Conv2d(3, 12, kernel_size=(5, 5), stride=(1, 1))\n",
       "  (pool): MaxPool2d(kernel_size=(2, 2), stride=2, padding=0, dilation=1, ceil_mode=False)\n",
       "  (conv2): Conv2d(12, 16, kernel_size=(5, 5), stride=(1, 1))\n",
       "  (fc1): Linear(in_features=256, out_features=60, bias=False)\n",
       "  (fc2): Linear(in_features=60, out_features=42, bias=False)\n",
       "  (fc3): Linear(in_features=42, out_features=10, bias=False)\n",
       "  (soft): Softmax(dim=0)\n",
       ")"
      ]
     },
     "execution_count": 112,
     "metadata": {},
     "output_type": "execute_result"
    }
   ],
   "source": [
    "isomap_pruned_cifar_net = copy.deepcopy(pruned_cifar_net)\n",
    "cifar_weight_list = drprojection(\n",
    "    isomap_pruned_cifar_net, nonlin.Isomap)\n",
    "\n",
    "cifar_mnist_layers = (nn.Linear(256, 60, False), nn.Linear(\n",
    "    60, 42, False), nn.Linear(42, 10, False))\n",
    "\n",
    "isomap_pruned_cifar_net = construct_model(\n",
    "    isomap_pruned_cifar_net, cifar_mnist_layers)\n",
    "\n",
    "isomap_pruned_cifar_net = are_weights(\n",
    "    isomap_pruned_cifar_net, tuple(cifar_weight_list))\n",
    "isomap_pruned_cifar_net.eval()\n"
   ]
  },
  {
   "cell_type": "code",
   "execution_count": 113,
   "metadata": {},
   "outputs": [
    {
     "name": "stdout",
     "output_type": "stream",
     "text": [
      "Accuracy of the network on the 10000 test images: 21 %\n"
     ]
    }
   ],
   "source": [
    "average_accuracy(isomap_pruned_cifar_net,testloader_cifar)"
   ]
  },
  {
   "cell_type": "code",
   "execution_count": 114,
   "metadata": {},
   "outputs": [],
   "source": [
    "path_isomap_pruned_cifar = './isomap_reduced_network/cifar/pruned/dr_pruned_cifar_network.pt'\n",
    "torch.save(isomap_pruned_cifar_net,path_isomap_pruned_cifar)"
   ]
  },
  {
   "cell_type": "code",
   "execution_count": 103,
   "metadata": {},
   "outputs": [],
   "source": [
    "path_small_isomap_untrained = './isomap_reduced_network/untrained_reduced_network.pt'\n",
    "torch.save(dr_n_projection_untrained, path_small_isomap_untrained)"
   ]
  },
  {
   "cell_type": "code",
   "execution_count": 9,
   "metadata": {},
   "outputs": [],
   "source": [
    "def averge_accuracy(model,test_dataset):\n",
    "    total = 0\n",
    "    correct = 0\n",
    "    for data in test_dataset:\n",
    "        pics, lables = data\n",
    "        output = model(pics)\n",
    "        _, pred = torch.max(output.data, 1)\n",
    "        correct += (pred == lables).sum().item()\n",
    "        total += lables.size(0)\n",
    "\n",
    "    print('average acc:', 100 * correct / total)\n"
   ]
  },
  {
   "cell_type": "code",
   "execution_count": 33,
   "metadata": {},
   "outputs": [
    {
     "name": "stdout",
     "output_type": "stream",
     "text": [
      "average acc: 11.89\n"
     ]
    }
   ],
   "source": [
    "averge_accuracy(dr_n_projection_untrained, testloader_mnist)"
   ]
  },
  {
   "cell_type": "code",
   "execution_count": 79,
   "metadata": {},
   "outputs": [],
   "source": [
    "def mfun(matrix, weight_matrix):\n",
    "    for a in range(matrix.shape[0]):\n",
    "        for b in range(matrix.shape[1]):\n",
    "            matrix[a][b] = weight_matrix[a][b]\n",
    "    return matrix\n"
   ]
  },
  {
   "cell_type": "code",
   "execution_count": 81,
   "metadata": {},
   "outputs": [
    {
     "name": "stdout",
     "output_type": "stream",
     "text": [
      "torch.Size([60, 256])\n"
     ]
    }
   ],
   "source": [
    "m1 = torch.zeros([60, 256])\n",
    "m2 = torch.zeros([42, 60])\n",
    "m3 = torch.zeros([10, 42])\n",
    "\n",
    "m1 = mfun(m1, model_mnist.fc1.weight)\n",
    "m2 = mfun(m2, model_mnist.fc2.weight)\n",
    "m3 = mfun(m3, model_mnist.fc3.weight)\n",
    "\n",
    "print(m1.shape)\n",
    "\n"
   ]
  },
  {
   "cell_type": "code",
   "execution_count": 87,
   "metadata": {},
   "outputs": [
    {
     "name": "stdout",
     "output_type": "stream",
     "text": [
      "tensor([-0.1890, -0.5867,  0.5877, -0.1414, -0.0527, -0.2899,  0.3277,  0.0784,\n",
      "         0.2266,  0.0545], grad_fn=<DivBackward0>)\n",
      "tensor([-0.5093, 10.7150, -0.0736, -8.4573,  7.4311, -0.9365, -1.6053,  2.1383,\n",
      "        -8.8714, -2.8670], grad_fn=<AddBackward0>)\n",
      "distance\n",
      "tensor(18.7919, grad_fn=<NormBackward1>)\n",
      "tensor(5.0526, grad_fn=<MulBackward0>)\n",
      "cosine similarity\n",
      "tensor(-0.4186, grad_fn=<SumBackward1>)\n"
     ]
    }
   ],
   "source": [
    "lin1 = nn.Linear(in_features = 256, out_features=60,bias=True)\n",
    "lin2 = nn.Linear(in_features = 60, out_features=42,bias=True)\n",
    "lin3 = nn.Linear(in_features = 42, out_features=10,bias=True)\n",
    "\n",
    "lin1.weight = model_mnist.fc1.weight\n",
    "lin2.weight = model_mnist.fc2.weight\n",
    "lin3.weight = model_mnist.fc3.weight\n",
    "\n",
    "x_lin = lin1(random)\n",
    "x_lin = lin2(x_lin)\n",
    "x_lin = lin3(x_lin)\n",
    "norm_xlin = nn.functional.normalize(x_lin, dim=0)\n",
    "print(norm_xlin)\n",
    "print(x_new)\n",
    "ed = torch.pairwise_distance(norm_xlin, x_new)\n",
    "print(\"distance\")\n",
    "print(ed)\n",
    "result = 1/(1 + ed)\n",
    "print(result * 100)\n",
    "print(\"cosine similarity\")\n",
    "print(nn.CosineSimilarity(dim=0)(norm_xlin, x_new))\n",
    "\n"
   ]
  },
  {
   "cell_type": "code",
   "execution_count": 81,
   "metadata": {},
   "outputs": [],
   "source": [
    "lin1 = nn.Linear(in_features = 256, out_features=120,bias=False)\n",
    "lin2 = nn.Linear(in_features = 120, out_features=84,bias=False)\n",
    "lin3 = nn.Linear(in_features = 84, out_features=10,bias=False)\n",
    "\n",
    "lin1.weight = model_mnist.fc1.weight\n",
    "lin2.weight =  model_mnist.fc2.weight\n",
    "lin3.weight =  model_mnist.fc3.weight"
   ]
  },
  {
   "cell_type": "code",
   "execution_count": 82,
   "metadata": {},
   "outputs": [
    {
     "name": "stdout",
     "output_type": "stream",
     "text": [
      "tensor([-0.9922,  1.0499,  1.0739, -2.9549,  1.8736,  0.2282,  0.8645,  0.9884,\n",
      "         0.8530, -2.6438], grad_fn=<MvBackward0>)\n"
     ]
    }
   ],
   "source": [
    "x_lin = lin1(random)\n",
    "x_lin = lin2(x_lin)\n",
    "x_lin = lin3(x_lin)\n",
    "print(x_lin)\n"
   ]
  },
  {
   "cell_type": "markdown",
   "metadata": {},
   "source": [
    "## weight matrix multiplication testing"
   ]
  },
  {
   "cell_type": "code",
   "execution_count": 38,
   "metadata": {},
   "outputs": [
    {
     "name": "stdout",
     "output_type": "stream",
     "text": [
      "torch.Size([40, 256])\n"
     ]
    }
   ],
   "source": [
    "fc_1 = model_mnist.fc1.weight.detach().numpy().T\n",
    "fa =nonlin.Isomap(n_components=60)\n",
    "fc_1_m = fa.fit_transform(fc_1)\n",
    "fc_1_m = torch.tensor(fc_1_m.T,  dtype=torch.float32)\n",
    "print(fc_1_m.shape)\n",
    "\n"
   ]
  },
  {
   "cell_type": "code",
   "execution_count": 29,
   "metadata": {},
   "outputs": [
    {
     "name": "stdout",
     "output_type": "stream",
     "text": [
      "torch.Size([256, 60])\n"
     ]
    }
   ],
   "source": [
    "fc_1_m_new = torch.mm(model_mnist.fc1.weight.T, fc_1_m)\n",
    "print(fc_1_m_new.shape)"
   ]
  },
  {
   "cell_type": "code",
   "execution_count": 39,
   "metadata": {},
   "outputs": [
    {
     "name": "stdout",
     "output_type": "stream",
     "text": [
      "torch.Size([84, 40])\n"
     ]
    }
   ],
   "source": [
    "# fc_2 = nn.functional.relu(model_mnist.fc2.weight)\n",
    "# fc_2_x = torch.mm(new_matrix, model_mnist.fc2.weight.T)\n",
    "# print(fc_2_x.shape)\n",
    "# fc_2 = fc_2_x.detach().numpy()\n",
    "# isomap_ = dec.PCA(n_components=42)\n",
    "# fc_2_reduced_m = isomap_.fit_transform(fc_2)\n",
    "# fc_2_reduced_m = fc_2_reduced_m.T\n",
    "# print('second dimension reduced:')\n",
    "\n",
    "# fc_2_reduced_m = torch.tensor(fc_2_reduced_m, dtype=torch.float32)\n",
    "# print(fc_2_reduced_m.shape)\n",
    "fc_2 = model_mnist.fc2.weight.detach().numpy()\n",
    "fc_2 = fc_2.reshape(84 * 2, -1)\n",
    "isomap_ = nonlin.Isomap(n_components=20)\n",
    "reduced_fc_2 = isomap_.fit_transform(fc_2)\n",
    "reduced_fc_2 = reduced_fc_2.reshape(-1, 20 * 2)\n",
    "reduced_fc_2 = torch.tensor(reduced_fc_2,  dtype=torch.float32)\n",
    "print(reduced_fc_2.shape)\n",
    "\n"
   ]
  },
  {
   "cell_type": "code",
   "execution_count": 45,
   "metadata": {},
   "outputs": [
    {
     "name": "stdout",
     "output_type": "stream",
     "text": [
      "torch.Size([40, 256])\n",
      "tensor([ 0.0655, -0.2840,  0.0715, -0.1201,  0.0106, -0.1545, -0.0709, -0.1225,\n",
      "        -0.2019,  0.0782,  0.1379,  0.0368,  0.1260, -0.1121, -0.0119,  0.0837,\n",
      "        -0.0479, -0.1236,  0.1093, -0.0095, -0.1081,  0.1483, -0.1773, -0.0478,\n",
      "         0.0687, -0.0505,  0.0256,  0.0311, -0.0546,  0.0593, -0.1113,  0.1878,\n",
      "         0.0765, -0.2415, -0.1638, -0.0173,  0.1131,  0.1656,  0.1141, -0.1151,\n",
      "        -0.0329,  0.0527,  0.0702, -0.1108,  0.1315,  0.0657, -0.1342, -0.0222,\n",
      "         0.0230,  0.1309, -0.0738, -0.0666, -0.1203, -0.0908,  0.1100,  0.0595,\n",
      "        -0.0408, -0.0239, -0.0839, -0.0709, -0.0875,  0.0174,  0.1358,  0.1235,\n",
      "         0.0392, -0.1933,  0.0293, -0.1111,  0.0310, -0.0158,  0.0011,  0.1015,\n",
      "         0.0247, -0.1355, -0.1582,  0.0930,  0.0432, -0.0255,  0.0324,  0.1620,\n",
      "        -0.0675,  0.2043, -0.1831, -0.1480], grad_fn=<DivBackward0>)\n",
      "tensor([ 1.5537,  0.9938, -0.3086, -1.5574,  0.6890, -1.6042, -0.0787, -0.3769,\n",
      "         0.2473,  0.8930, -1.4529,  2.5043,  1.4268,  1.8208, -2.9927, -0.3128,\n",
      "         0.9403,  0.8287, -1.9032,  0.5333,  0.5032,  0.0572,  3.1264,  0.2320,\n",
      "        -0.4794,  0.1529,  0.5952,  0.0409, -1.2787,  0.1726,  0.3510,  1.3975,\n",
      "         0.4594,  1.0505, -1.4037, -0.0213, -1.5141, -1.1173, -0.6905,  0.5253,\n",
      "        -1.7230,  1.9080, -0.3423,  0.6918,  0.3148, -0.2690, -0.4372,  1.2339,\n",
      "         1.1926,  1.4155, -0.3247,  0.8195,  0.1512, -0.5880,  2.4696, -0.2934,\n",
      "         0.4278,  1.6573,  1.0997, -0.8235,  1.3252,  0.1205,  1.0216,  1.6571,\n",
      "        -1.1533, -0.8407,  0.0143,  0.1561, -0.7192, -1.5260, -0.3520,  1.5088,\n",
      "         0.1807,  0.1516, -1.9119, -0.5640, -2.9886,  0.2005, -0.2259,  0.8091,\n",
      "         0.7535, -0.9010, -0.7659,  0.1341], grad_fn=<MvBackward0>)\n",
      "tensor(0.9152, grad_fn=<MulBackward0>)\n",
      "tensor(10.6904, grad_fn=<NormBackward1>)\n",
      "tensor(8.5540, grad_fn=<MulBackward0>)\n"
     ]
    }
   ],
   "source": [
    "lin_60 = nn.Linear(256, 40, bias=False)\n",
    "lin_8460 = nn.Linear(40,84, bias=False)\n",
    "\n",
    "lin_60.weight.data = fc_1_m\n",
    "print(fc_1_m.shape)\n",
    "lin_8460.weight.data = reduced_fc_2\n",
    "output = lin_60(random)\n",
    "output = lin_8460(output)\n",
    "output = nn.functional.normalize(output, dim=0)\n",
    "print(output)\n",
    "\n",
    "lin_120 = nn.Linear(256, 120, bias=False)\n",
    "lin_84 = nn.Linear(120,84, bias=False)\n",
    "lin_120.weight.data = model_mnist.fc1.weight\n",
    "lin_84.weight.data = model_mnist.fc2.weight\n",
    "\n",
    "output2 = lin_120(random)\n",
    "output2 = lin_84(output2)\n",
    "\n",
    "\n",
    "print(output2)\n",
    "\n",
    "print(nn.CosineSimilarity(dim=0)(output2, output) * 100)\n",
    "\n",
    "\n",
    "dist = torch.pairwise_distance(output, output2)\n",
    "print(dist)\n",
    "result =1/(1 +dist)\n",
    "print(result *100) \n"
   ]
  },
  {
   "cell_type": "code",
   "execution_count": 11,
   "metadata": {},
   "outputs": [
    {
     "name": "stdout",
     "output_type": "stream",
     "text": [
      "torch.Size([84, 42])\n"
     ]
    }
   ],
   "source": [
    "new_martixfor_fc2 = torch.mm(fc_2_x.T, fc_2_reduced_m.T)\n",
    "print(new_martixfor_fc2.shape)"
   ]
  },
  {
   "cell_type": "code",
   "execution_count": 12,
   "metadata": {},
   "outputs": [
    {
     "name": "stdout",
     "output_type": "stream",
     "text": [
      "torch.Size([10, 42])\n"
     ]
    }
   ],
   "source": [
    "fc_3_new = torch.mm(model_mnist.fc3.weight, new_martixfor_fc2)\n",
    "print(fc_3_new.shape)\n",
    "# fc_3_new = model_mnist.fc3.weight.detach().numpy().T\n",
    "# fc3_Isomap = nonlin.Isomap(n_components=5, n_neighbors=10)\n",
    "# fc_3_new_reduced = fc3_Isomap.fit_transform(fc_3_new)\n",
    "# fc_3_new_reduced = fc_3_new_reduced.reshape(-1, 10)\n",
    "# fc_3_new_reduced = torch.tensor(fc_3_new_reduced.T, dtype=torch.float32)\n",
    "# print(fc_3_new_reduced.shape)\n"
   ]
  },
  {
   "cell_type": "code",
   "execution_count": 13,
   "metadata": {},
   "outputs": [
    {
     "name": "stdout",
     "output_type": "stream",
     "text": [
      "torch.Size([42, 10])\n"
     ]
    }
   ],
   "source": [
    "fc_3_new = torch.mm(fc_3_new, model_mnist.fc3.weight.T)\n",
    "print(fc_3_new.shape)"
   ]
  },
  {
   "cell_type": "code",
   "execution_count": 229,
   "metadata": {},
   "outputs": [
    {
     "name": "stdout",
     "output_type": "stream",
     "text": [
      "torch.Size([60, 84])\n"
     ]
    }
   ],
   "source": [
    "print(fc_2_x.shape)"
   ]
  },
  {
   "cell_type": "code",
   "execution_count": 13,
   "metadata": {},
   "outputs": [],
   "source": [
    "lin1_new = nn.Linear(in_features = 256, out_features=60,bias=True)\n",
    "lin2_new= nn.Linear(in_features = 60, out_features=42,bias=True)\n",
    "lin3_new = nn.Linear(in_features = 42, out_features=10,bias=True)\n",
    "\n",
    "lin1_new.weight = nn.Parameter(fc_1_m)\n",
    "lin2_new.weight = nn.Parameter(fc_2_reduced_m)\n",
    "lin3_new.weight = nn.Parameter(fc_3_new)\n"
   ]
  },
  {
   "cell_type": "code",
   "execution_count": 19,
   "metadata": {},
   "outputs": [],
   "source": [
    "mnist_lin1 = nn.Linear(in_features = 256, out_features=120,bias=True)\n",
    "mnist_lin2 = nn.Linear(in_features = 120, out_features=84,bias=True)\n",
    "mnist_lin3 = nn.Linear(in_features = 84, out_features=10,bias=True)\n",
    "\n",
    "mnist_lin1.weight = model_mnist.fc1.weight\n",
    "mnist_lin2.weight = model_mnist.fc2.weight\n",
    "mnist_lin3.weight = model_mnist.fc3.weight"
   ]
  },
  {
   "cell_type": "code",
   "execution_count": 15,
   "metadata": {},
   "outputs": [
    {
     "name": "stdout",
     "output_type": "stream",
     "text": [
      "torch.Size([42, 60])\n"
     ]
    }
   ],
   "source": [
    "print(lin2_new.weight.shape)\n"
   ]
  },
  {
   "cell_type": "code",
   "execution_count": 21,
   "metadata": {},
   "outputs": [
    {
     "name": "stdout",
     "output_type": "stream",
     "text": [
      "tensor([ 0.2364, -0.1304, -0.2433,  0.1608, -0.5722,  0.4288,  0.2356, -0.3944,\n",
      "         0.3453, -0.0205], grad_fn=<DivBackward0>)\n",
      "tensor([ 0.1291,  0.2988, -0.5994, -0.2388, -0.2318,  0.3710, -0.2537,  0.4554,\n",
      "         0.0404, -0.1135], grad_fn=<DivBackward0>)\n",
      "tensor(1.2903, grad_fn=<NormBackward1>)\n",
      "tensor(43.6633, grad_fn=<MulBackward0>)\n"
     ]
    }
   ],
   "source": [
    "a1 = lin1_new(random)\n",
    "a1 = lin2_new(a1)\n",
    "a1 = lin3_new(a1)\n",
    "a1 = nn.functional.normalize(a1, dim=0)\n",
    "\n",
    "a2 = mnist_lin1(random)\n",
    "a2 = mnist_lin2(a2)\n",
    "a2 = mnist_lin3(a2)\n",
    "a2 = nn.functional.normalize(a2, dim=0)\n",
    "\n",
    "\n",
    "print(a1)\n",
    "print(a2)\n",
    "ed = torch.pairwise_distance(a1, a2)\n",
    "print(ed)\n",
    "result =1/(1 +ed)\n",
    "print(result *100) "
   ]
  },
  {
   "attachments": {},
   "cell_type": "markdown",
   "metadata": {},
   "source": [
    "## Pruning of the network"
   ]
  },
  {
   "cell_type": "code",
   "execution_count": 40,
   "metadata": {},
   "outputs": [],
   "source": [
    "path_mnist_original_network = './isomap_reduced_network/mnist/custom_nn_mnist_isomap_original.pt'\n",
    "path_mnist_reduced_isomap_retrained = './isomap_reduced_network/mnist/reduced_isomap_retrained.pt'\n",
    "path_mnist_small_network = './isomap_reduced_network/mnist/small_network_scratch_isomap.pt'\n",
    "path_mnist_untrained_reduced_network  ='./isomap_reduced_network/mnist/untrained_reduced_network.pt'"
   ]
  },
  {
   "cell_type": "code",
   "execution_count": 41,
   "metadata": {},
   "outputs": [
    {
     "data": {
      "text/plain": [
       "NN(\n",
       "  (conv1): Conv2d(1, 12, kernel_size=(5, 5), stride=(1, 1))\n",
       "  (pool): MaxPool2d(kernel_size=2, stride=2, padding=0, dilation=1, ceil_mode=False)\n",
       "  (conv2): Conv2d(12, 16, kernel_size=(5, 5), stride=(1, 1))\n",
       "  (fc1): Linear(in_features=256, out_features=120, bias=True)\n",
       "  (fc2): Linear(in_features=120, out_features=84, bias=True)\n",
       "  (fc3): Linear(in_features=84, out_features=10, bias=True)\n",
       "  (soft): Softmax(dim=0)\n",
       ")"
      ]
     },
     "execution_count": 41,
     "metadata": {},
     "output_type": "execute_result"
    }
   ],
   "source": [
    "path_mnist = './isomap_reduced_network/mnist/custom_nn_mnist_isomap_original.pt'\n",
    "model_mnist = torch.load(path_mnist)\n",
    "model_mnist.eval()"
   ]
  },
  {
   "cell_type": "code",
   "execution_count": 45,
   "metadata": {},
   "outputs": [],
   "source": [
    "import copy\n",
    "# pruned_layers = (model_mnist.fc1, model_mnist.fc2, model_mnist.fc3)\n",
    "# pruned_model_mnist = NN(is_normalize=False)\n",
    "pruned_model_mnist = copy.deepcopy(model_mnist)\n"
   ]
  },
  {
   "cell_type": "code",
   "execution_count": 44,
   "metadata": {},
   "outputs": [],
   "source": [
    "def prune_function(model, amount_to_prune):\n",
    "    for name,module in model.named_modules():\n",
    "        if isinstance(module, nn.Linear):\n",
    "            prune.random_unstructured(module, 'weight', amount=amount_to_prune)\n",
    "            print(module._forward_pre_hooks)\n",
    "        "
   ]
  },
  {
   "cell_type": "code",
   "execution_count": 46,
   "metadata": {},
   "outputs": [
    {
     "name": "stdout",
     "output_type": "stream",
     "text": [
      "OrderedDict([(15, <torch.nn.utils.prune.RandomUnstructured object at 0x000001A5874A5250>)])\n",
      "OrderedDict([(16, <torch.nn.utils.prune.RandomUnstructured object at 0x000001A5874A5EE0>)])\n",
      "OrderedDict([(17, <torch.nn.utils.prune.RandomUnstructured object at 0x000001A5874A56D0>)])\n"
     ]
    }
   ],
   "source": [
    "prune_function(pruned_model_mnist, 0.5)"
   ]
  },
  {
   "cell_type": "code",
   "execution_count": 47,
   "metadata": {},
   "outputs": [
    {
     "name": "stdout",
     "output_type": "stream",
     "text": [
      "model mnist\n",
      "average acc: 98.08\n",
      "model mnist pruned\n",
      "average acc: 72.32\n"
     ]
    }
   ],
   "source": [
    "print('model mnist')\n",
    "averge_accuracy(model_mnist, testloader_mnist)\n",
    "print('model mnist pruned')\n",
    "averge_accuracy(pruned_model_mnist, testloader_mnist)"
   ]
  },
  {
   "cell_type": "code",
   "execution_count": 48,
   "metadata": {},
   "outputs": [],
   "source": [
    "path_prune_original_network = './isomap_reduced_network/mnist/pruned/pruned_original_network.pt'\n",
    "torch.save(pruned_model_mnist, path_prune_original_network)"
   ]
  },
  {
   "cell_type": "code",
   "execution_count": 49,
   "metadata": {},
   "outputs": [
    {
     "name": "stdout",
     "output_type": "stream",
     "text": [
      "x_new vector\n",
      "(256, 60)\n",
      "torch.Size([120, 60])\n",
      "torch.Size([84, 60])\n",
      "torch.Size([42, 60])\n",
      "torch.Size([42, 84])\n",
      "torch.Size([10, 42])\n"
     ]
    }
   ],
   "source": [
    "pruned_x_new = pruned_model_mnist.fc1.weight.detach().numpy().T\n",
    "iso = nonlin.Isomap(n_components=60)\n",
    "# x_new_1 = x_new_1.reshape(60,2)\n",
    "pruned_x_new = iso.fit_transform(pruned_x_new)\n",
    "# x_new_1 = x_new_1.flatten()\n",
    "# random_matrix = random.reshape(256, 1)\n",
    "# x_new_1_matrix = x_new_1.reshape(1,60)\n",
    "print(\"x_new vector\")\n",
    "print(pruned_x_new.shape)\n",
    "\n",
    "# new_weight_matrixIguess = np.matmul(random_matrix, x_new_1_matrix)\n",
    "\n",
    "\n",
    "\n",
    "\n",
    "\n",
    "\n",
    "uuh = torch.mm(pruned_model_mnist.fc1.weight, torch.tensor(pruned_x_new, dtype=torch.float))\n",
    "print(uuh.shape)\n",
    "wfc2_pruned = torch.mm(pruned_model_mnist.fc2.weight, uuh)\n",
    "print(wfc2_pruned.shape)\n",
    "\n",
    "\n",
    "blah = nonlin.Isomap(n_components=21)\n",
    "wfc2_r_pruned = wfc2_pruned.reshape(42, -1)\n",
    "wfc2_r_pruned = blah.fit_transform(wfc2_r_pruned.detach().numpy().T).T\n",
    "wfc2_r_pruned = wfc2_r_pruned.reshape(-1, 42)\n",
    "wfc2_r_pruned = torch.tensor(wfc2_r_pruned, dtype=torch.float)\n",
    "wfc2_r_pruned = wfc2_r_pruned.T\n",
    "print(wfc2_r_pruned.shape)\n",
    "\n",
    "\n",
    "wfc3_r_pruned = torch.mm(wfc2_r_pruned, wfc2_pruned.T)\n",
    "print(wfc3_r_pruned.shape)\n",
    "\n",
    "\n",
    "wfc3_r_pruned = torch.mm(pruned_model_mnist.fc3.weight, wfc3_r_pruned.T)\n",
    "print(wfc3_r_pruned.shape)\n"
   ]
  },
  {
   "cell_type": "code",
   "execution_count": 94,
   "metadata": {},
   "outputs": [
    {
     "data": {
      "text/plain": [
       "NN(\n",
       "  (conv1): Conv2d(1, 12, kernel_size=(5, 5), stride=(1, 1))\n",
       "  (pool): MaxPool2d(kernel_size=2, stride=2, padding=0, dilation=1, ceil_mode=False)\n",
       "  (conv2): Conv2d(12, 16, kernel_size=(5, 5), stride=(1, 1))\n",
       "  (fc1): Linear(in_features=256, out_features=60, bias=False)\n",
       "  (fc2): Linear(in_features=60, out_features=42, bias=False)\n",
       "  (fc3): Linear(in_features=42, out_features=10, bias=False)\n",
       "  (soft): Softmax(dim=0)\n",
       ")"
      ]
     },
     "execution_count": 94,
     "metadata": {},
     "output_type": "execute_result"
    }
   ],
   "source": [
    "pruned_layers = (nn.Linear(256, 60, False), nn.Linear(60,42, False), nn.Linear(42,10, False))\n",
    "dr_pruned_model_mnist = construct_model(NN(is_normalize=True), pruned_layers)\n",
    "dr_pruned_model_mnist.fc1.weight.data =  torch.tensor(pruned_x_new.T, dtype=torch.float32)\n",
    "dr_pruned_model_mnist.fc2.weight.data = wfc2_r_pruned\n",
    "dr_pruned_model_mnist.fc3.weight.data = wfc3_r_pruned\n",
    "\n",
    "dr_pruned_model_mnist.eval()"
   ]
  },
  {
   "cell_type": "code",
   "execution_count": 95,
   "metadata": {},
   "outputs": [
    {
     "name": "stdout",
     "output_type": "stream",
     "text": [
      "average acc: 7.59\n"
     ]
    }
   ],
   "source": [
    "averge_accuracy(dr_pruned_model_mnist, testloader_mnist)"
   ]
  },
  {
   "cell_type": "code",
   "execution_count": 98,
   "metadata": {},
   "outputs": [
    {
     "name": "stdout",
     "output_type": "stream",
     "text": [
      "37.9929780960083\n"
     ]
    }
   ],
   "source": [
    "x = dr_pruned_model_mnist(sample_im)\n",
    "x2 = pruned_model_mnist(sample_im)\n",
    "cos = nn.functional.cosine_similarity(x, x2)\n",
    "print(cos.sum().item()/4 * 100) "
   ]
  },
  {
   "cell_type": "code",
   "execution_count": 99,
   "metadata": {},
   "outputs": [
    {
     "name": "stdout",
     "output_type": "stream",
     "text": [
      "saved!!\n"
     ]
    }
   ],
   "source": [
    "path_dr_prune_original_network = './isomap_reduced_network/mnist/pruned/dr_pruned_original_network.pt'\n",
    "torch.save(dr_pruned_model_mnist, path_dr_prune_original_network)\n",
    "print('saved!!')"
   ]
  },
  {
   "cell_type": "code",
   "execution_count": 100,
   "metadata": {},
   "outputs": [],
   "source": [
    "dr_pruned_model_mnist_retrained = copy.deepcopy(dr_pruned_model_mnist)"
   ]
  },
  {
   "cell_type": "code",
   "execution_count": 102,
   "metadata": {},
   "outputs": [
    {
     "name": "stdout",
     "output_type": "stream",
     "text": [
      "SGD (\n",
      "Parameter Group 0\n",
      "    dampening: 0\n",
      "    foreach: None\n",
      "    lr: 0.001\n",
      "    maximize: False\n",
      "    momentum: 0.9\n",
      "    nesterov: False\n",
      "    weight_decay: 0\n",
      ")\n",
      "epoch: 0\n"
     ]
    },
    {
     "name": "stderr",
     "output_type": "stream",
     "text": [
      "c:\\Users\\sulta\\anaconda3\\lib\\site-packages\\torch\\autograd\\profiler.py:160: UserWarning: CUDA is not available, disabling CUDA profiling\n",
      "  warn(\"CUDA is not available, disabling CUDA profiling\")\n"
     ]
    },
    {
     "name": "stdout",
     "output_type": "stream",
     "text": [
      "[1,  2000] loss: 1.774 acc: 75.425\n",
      "[1,  4000] loss: 1.583 acc: 93.362\n",
      "[1,  6000] loss: 1.521 acc: 95.175\n",
      "[1,  8000] loss: 1.490 acc: 95.975\n",
      "[1, 10000] loss: 1.481 acc: 96.650\n",
      "[1, 12000] loss: 1.470 acc: 97.250\n",
      "[1, 14000] loss: 1.469 acc: 96.812\n",
      "epoch: 1\n",
      "[2,  2000] loss: 2.193 acc: 97.142\n",
      "[2,  4000] loss: 1.457 acc: 97.375\n",
      "[2,  6000] loss: 1.455 acc: 97.638\n",
      "[2,  8000] loss: 1.456 acc: 97.362\n",
      "[2, 10000] loss: 1.450 acc: 97.912\n",
      "[2, 12000] loss: 1.449 acc: 97.900\n",
      "[2, 14000] loss: 1.449 acc: 97.912\n",
      "epoch: 2\n",
      "[3,  2000] loss: 2.171 acc: 97.808\n",
      "[3,  4000] loss: 1.445 acc: 98.138\n",
      "[3,  6000] loss: 1.445 acc: 98.025\n",
      "[3,  8000] loss: 1.443 acc: 98.400\n",
      "[3, 10000] loss: 1.442 acc: 98.350\n",
      "[3, 12000] loss: 1.444 acc: 97.950\n",
      "[3, 14000] loss: 1.442 acc: 98.188\n",
      "epoch: 3\n",
      "[4,  2000] loss: 2.160 acc: 98.375\n",
      "[4,  4000] loss: 1.441 acc: 98.162\n",
      "[4,  6000] loss: 1.439 acc: 98.475\n",
      "[4,  8000] loss: 1.439 acc: 98.550\n",
      "[4, 10000] loss: 1.438 acc: 98.688\n",
      "[4, 12000] loss: 1.440 acc: 98.325\n",
      "[4, 14000] loss: 1.439 acc: 98.475\n",
      "epoch: 4\n",
      "[5,  2000] loss: 2.154 acc: 98.750\n",
      "[5,  4000] loss: 1.437 acc: 98.600\n",
      "[5,  6000] loss: 1.437 acc: 98.688\n",
      "[5,  8000] loss: 1.436 acc: 98.838\n",
      "[5, 10000] loss: 1.437 acc: 98.513\n",
      "[5, 12000] loss: 1.438 acc: 98.487\n",
      "[5, 14000] loss: 1.435 acc: 98.750\n",
      "Finished Training\n"
     ]
    }
   ],
   "source": [
    "training(dr_pruned_model_mnist_retrained, trainloader_mnist, 5)"
   ]
  },
  {
   "cell_type": "markdown",
   "metadata": {},
   "source": [
    "# Dimensional reduction on cifar10 dataset"
   ]
  },
  {
   "cell_type": "code",
   "execution_count": 169,
   "metadata": {},
   "outputs": [],
   "source": [
    "class NN2(nn.Module):\n",
    "    def __init__(self, is_norm=False):\n",
    "        super().__init__()\n",
    "        self.conv1 = nn.Conv2d(in_channels=3, out_channels=12,kernel_size=(5,5))\n",
    "        self.pool = nn.MaxPool2d(kernel_size=(2,2), stride=2)\n",
    "        self.conv2 = nn.Conv2d(in_channels=12, out_channels=16, kernel_size=(5,5))\n",
    "        self.fc1 = nn.Linear(16*5*5, 120)\n",
    "        self.fc2 = nn.Linear(120,84)\n",
    "        self.fc3 = nn.Linear(84, 10)\n",
    "        self.soft = nn.Softmax(dim=0)\n",
    "        self.is_norm = is_norm\n",
    "        # self.conv1 = nn.Conv2d(3, 6, 5)\n",
    "        # self.pool = nn.MaxPool2d(2, 2)\n",
    "        # self.conv2 = nn.Conv2d(6, 16, 5)\n",
    "        # self.fc1 = nn.Linear(16 * 5 * 5, 120)\n",
    "        # self.fc2 = nn.Linear(120, 84)\n",
    "        # self.fc3 = nn.Linear(84, 10)\n",
    "       \n",
    "\n",
    "\n",
    "\n",
    "    def forward(self, x):\n",
    "        x = self.pool(F.relu(self.conv1(x)))\n",
    "        x = self.pool(F.relu(self.conv2(x)))\n",
    "        x = torch.flatten(x, 1) # flatten all dimensions except batch\n",
    "        x = F.relu(self.fc1(x))\n",
    "        x = F.relu(self.fc2(x))\n",
    "        if(self.is_norm == True):\n",
    "            x = nn.functional.normalize(self.fc3(x))\n",
    "        else:\n",
    "            x = self.fc3(x)\n",
    "        return x\n"
   ]
  },
  {
   "cell_type": "markdown",
   "metadata": {},
   "source": [
    "## Original network training"
   ]
  },
  {
   "cell_type": "code",
   "execution_count": 124,
   "metadata": {},
   "outputs": [
    {
     "data": {
      "text/plain": [
       "NN2(\n",
       "  (conv1): Conv2d(3, 12, kernel_size=(5, 5), stride=(1, 1))\n",
       "  (pool): MaxPool2d(kernel_size=(2, 2), stride=2, padding=0, dilation=1, ceil_mode=False)\n",
       "  (conv2): Conv2d(12, 16, kernel_size=(5, 5), stride=(1, 1))\n",
       "  (fc1): Linear(in_features=400, out_features=120, bias=True)\n",
       "  (fc2): Linear(in_features=120, out_features=84, bias=True)\n",
       "  (fc3): Linear(in_features=84, out_features=10, bias=True)\n",
       "  (soft): Softmax(dim=0)\n",
       ")"
      ]
     },
     "execution_count": 124,
     "metadata": {},
     "output_type": "execute_result"
    }
   ],
   "source": [
    "model_cifar = NN2(is_norm=False)\n",
    "model_cifar.eval()"
   ]
  },
  {
   "cell_type": "code",
   "execution_count": 125,
   "metadata": {},
   "outputs": [
    {
     "name": "stdout",
     "output_type": "stream",
     "text": [
      "average acc: 10.15\n"
     ]
    }
   ],
   "source": [
    "#check the accarcy before the training\n",
    "averge_accuracy(model_cifar, testloader)"
   ]
  },
  {
   "cell_type": "code",
   "execution_count": 126,
   "metadata": {},
   "outputs": [
    {
     "name": "stdout",
     "output_type": "stream",
     "text": [
      "SGD (\n",
      "Parameter Group 0\n",
      "    dampening: 0\n",
      "    foreach: None\n",
      "    lr: 0.001\n",
      "    maximize: False\n",
      "    momentum: 0.9\n",
      "    nesterov: False\n",
      "    weight_decay: 0\n",
      ")\n",
      "epoch: 0\n",
      "[1,  2000] loss: 2.189 acc: 17.325\n",
      "[1,  4000] loss: 1.819 acc: 32.638\n",
      "[1,  6000] loss: 1.648 acc: 39.450\n",
      "[1,  8000] loss: 1.563 acc: 42.388\n",
      "[1, 10000] loss: 1.477 acc: 45.712\n",
      "[1, 12000] loss: 1.422 acc: 48.150\n",
      "epoch: 1\n",
      "[2,  2000] loss: 1.697 acc: 50.640\n",
      "[2,  4000] loss: 1.323 acc: 52.638\n",
      "[2,  6000] loss: 1.295 acc: 53.138\n",
      "[2,  8000] loss: 1.279 acc: 54.200\n",
      "[2, 10000] loss: 1.254 acc: 55.350\n",
      "[2, 12000] loss: 1.207 acc: 56.663\n",
      "epoch: 2\n",
      "[3,  2000] loss: 1.454 acc: 58.860\n"
     ]
    },
    {
     "name": "stderr",
     "output_type": "stream",
     "text": [
      "Exception ignored in: <function _MultiProcessingDataLoaderIter.__del__ at 0x000001A580722040>\n",
      "Traceback (most recent call last):\n",
      "  File \"c:\\Users\\sulta\\anaconda3\\lib\\site-packages\\torch\\utils\\data\\dataloader.py\", line 1481, in __del__\n",
      "    self._shutdown_workers()\n",
      "  File \"c:\\Users\\sulta\\anaconda3\\lib\\site-packages\\torch\\utils\\data\\dataloader.py\", line 1439, in _shutdown_workers\n",
      "    if self._persistent_workers or self._workers_status[worker_id]:\n",
      "AttributeError: '_MultiProcessingDataLoaderIter' object has no attribute '_workers_status'\n"
     ]
    },
    {
     "ename": "KeyboardInterrupt",
     "evalue": "",
     "output_type": "error",
     "traceback": [
      "\u001b[1;31m---------------------------------------------------------------------------\u001b[0m",
      "\u001b[1;31mKeyboardInterrupt\u001b[0m                         Traceback (most recent call last)",
      "\u001b[1;32mc:\\Users\\sulta\\Jupyter NoteBooks\\NN optimization individual project\\custom_nn_Isomap.ipynb Cell 76\u001b[0m in \u001b[0;36m<cell line: 1>\u001b[1;34m()\u001b[0m\n\u001b[1;32m----> <a href='vscode-notebook-cell:/c%3A/Users/sulta/Jupyter%20NoteBooks/NN%20optimization%20individual%20project/custom_nn_Isomap.ipynb#Y136sZmlsZQ%3D%3D?line=0'>1</a>\u001b[0m training(model_cifar, trainloader, \u001b[39m5\u001b[39;49m)\n",
      "\u001b[1;32mc:\\Users\\sulta\\Jupyter NoteBooks\\NN optimization individual project\\custom_nn_Isomap.ipynb Cell 76\u001b[0m in \u001b[0;36mtraining\u001b[1;34m(model, trainset, n)\u001b[0m\n\u001b[0;32m     <a href='vscode-notebook-cell:/c%3A/Users/sulta/Jupyter%20NoteBooks/NN%20optimization%20individual%20project/custom_nn_Isomap.ipynb#Y136sZmlsZQ%3D%3D?line=30'>31</a>\u001b[0m \u001b[39mwith\u001b[39;00m profile(activities\u001b[39m=\u001b[39m[ProfilerActivity\u001b[39m.\u001b[39mCPU, ProfilerActivity\u001b[39m.\u001b[39mCUDA]) \u001b[39mas\u001b[39;00m prof:\n\u001b[0;32m     <a href='vscode-notebook-cell:/c%3A/Users/sulta/Jupyter%20NoteBooks/NN%20optimization%20individual%20project/custom_nn_Isomap.ipynb#Y136sZmlsZQ%3D%3D?line=31'>32</a>\u001b[0m  outputs \u001b[39m=\u001b[39m model(inputs)\u001b[39m.\u001b[39mto(device)\n\u001b[1;32m---> <a href='vscode-notebook-cell:/c%3A/Users/sulta/Jupyter%20NoteBooks/NN%20optimization%20individual%20project/custom_nn_Isomap.ipynb#Y136sZmlsZQ%3D%3D?line=32'>33</a>\u001b[0m loss \u001b[39m=\u001b[39m criterion(outputs, labels)\n\u001b[0;32m     <a href='vscode-notebook-cell:/c%3A/Users/sulta/Jupyter%20NoteBooks/NN%20optimization%20individual%20project/custom_nn_Isomap.ipynb#Y136sZmlsZQ%3D%3D?line=33'>34</a>\u001b[0m loss\u001b[39m.\u001b[39mbackward()\n\u001b[0;32m     <a href='vscode-notebook-cell:/c%3A/Users/sulta/Jupyter%20NoteBooks/NN%20optimization%20individual%20project/custom_nn_Isomap.ipynb#Y136sZmlsZQ%3D%3D?line=34'>35</a>\u001b[0m optimizer\u001b[39m.\u001b[39mstep()\n",
      "File \u001b[1;32mc:\\Users\\sulta\\anaconda3\\lib\\site-packages\\torch\\nn\\modules\\module.py:1130\u001b[0m, in \u001b[0;36mModule._call_impl\u001b[1;34m(self, *input, **kwargs)\u001b[0m\n\u001b[0;32m   1126\u001b[0m \u001b[39m# If we don't have any hooks, we want to skip the rest of the logic in\u001b[39;00m\n\u001b[0;32m   1127\u001b[0m \u001b[39m# this function, and just call forward.\u001b[39;00m\n\u001b[0;32m   1128\u001b[0m \u001b[39mif\u001b[39;00m \u001b[39mnot\u001b[39;00m (\u001b[39mself\u001b[39m\u001b[39m.\u001b[39m_backward_hooks \u001b[39mor\u001b[39;00m \u001b[39mself\u001b[39m\u001b[39m.\u001b[39m_forward_hooks \u001b[39mor\u001b[39;00m \u001b[39mself\u001b[39m\u001b[39m.\u001b[39m_forward_pre_hooks \u001b[39mor\u001b[39;00m _global_backward_hooks\n\u001b[0;32m   1129\u001b[0m         \u001b[39mor\u001b[39;00m _global_forward_hooks \u001b[39mor\u001b[39;00m _global_forward_pre_hooks):\n\u001b[1;32m-> 1130\u001b[0m     \u001b[39mreturn\u001b[39;00m forward_call(\u001b[39m*\u001b[39m\u001b[39minput\u001b[39m, \u001b[39m*\u001b[39m\u001b[39m*\u001b[39mkwargs)\n\u001b[0;32m   1131\u001b[0m \u001b[39m# Do not call functions when jit is used\u001b[39;00m\n\u001b[0;32m   1132\u001b[0m full_backward_hooks, non_full_backward_hooks \u001b[39m=\u001b[39m [], []\n",
      "File \u001b[1;32mc:\\Users\\sulta\\anaconda3\\lib\\site-packages\\torch\\nn\\modules\\loss.py:1164\u001b[0m, in \u001b[0;36mCrossEntropyLoss.forward\u001b[1;34m(self, input, target)\u001b[0m\n\u001b[0;32m   1163\u001b[0m \u001b[39mdef\u001b[39;00m \u001b[39mforward\u001b[39m(\u001b[39mself\u001b[39m, \u001b[39minput\u001b[39m: Tensor, target: Tensor) \u001b[39m-\u001b[39m\u001b[39m>\u001b[39m Tensor:\n\u001b[1;32m-> 1164\u001b[0m     \u001b[39mreturn\u001b[39;00m F\u001b[39m.\u001b[39;49mcross_entropy(\u001b[39minput\u001b[39;49m, target, weight\u001b[39m=\u001b[39;49m\u001b[39mself\u001b[39;49m\u001b[39m.\u001b[39;49mweight,\n\u001b[0;32m   1165\u001b[0m                            ignore_index\u001b[39m=\u001b[39;49m\u001b[39mself\u001b[39;49m\u001b[39m.\u001b[39;49mignore_index, reduction\u001b[39m=\u001b[39;49m\u001b[39mself\u001b[39;49m\u001b[39m.\u001b[39;49mreduction,\n\u001b[0;32m   1166\u001b[0m                            label_smoothing\u001b[39m=\u001b[39;49m\u001b[39mself\u001b[39;49m\u001b[39m.\u001b[39;49mlabel_smoothing)\n",
      "File \u001b[1;32mc:\\Users\\sulta\\anaconda3\\lib\\site-packages\\torch\\nn\\functional.py:3014\u001b[0m, in \u001b[0;36mcross_entropy\u001b[1;34m(input, target, weight, size_average, ignore_index, reduce, reduction, label_smoothing)\u001b[0m\n\u001b[0;32m   3012\u001b[0m \u001b[39mif\u001b[39;00m size_average \u001b[39mis\u001b[39;00m \u001b[39mnot\u001b[39;00m \u001b[39mNone\u001b[39;00m \u001b[39mor\u001b[39;00m reduce \u001b[39mis\u001b[39;00m \u001b[39mnot\u001b[39;00m \u001b[39mNone\u001b[39;00m:\n\u001b[0;32m   3013\u001b[0m     reduction \u001b[39m=\u001b[39m _Reduction\u001b[39m.\u001b[39mlegacy_get_string(size_average, reduce)\n\u001b[1;32m-> 3014\u001b[0m \u001b[39mreturn\u001b[39;00m torch\u001b[39m.\u001b[39;49m_C\u001b[39m.\u001b[39;49m_nn\u001b[39m.\u001b[39;49mcross_entropy_loss(\u001b[39minput\u001b[39;49m, target, weight, _Reduction\u001b[39m.\u001b[39;49mget_enum(reduction), ignore_index, label_smoothing)\n",
      "\u001b[1;31mKeyboardInterrupt\u001b[0m: "
     ]
    }
   ],
   "source": [
    "training(model_cifar, trainloader, 5)"
   ]
  },
  {
   "cell_type": "code",
   "execution_count": 117,
   "metadata": {},
   "outputs": [],
   "source": [
    "cifar_original_net_path = './isomap_reduced_network/cifar/cifar_original_net.pt'\n",
    "torch.save(model_cifar, cifar_original_net_path)"
   ]
  },
  {
   "cell_type": "markdown",
   "metadata": {},
   "source": [
    "## Reduced network training without dimensioal reduction"
   ]
  },
  {
   "cell_type": "code",
   "execution_count": 118,
   "metadata": {},
   "outputs": [],
   "source": [
    "cifar_layers = (nn.Linear(400, 60), nn.Linear(60, 42), nn.Linear(42,10))\n",
    "model_cifar_reduced_scratch = construct_model(NN2(is_norm=False), cifar_layers)\n"
   ]
  },
  {
   "cell_type": "code",
   "execution_count": 119,
   "metadata": {},
   "outputs": [
    {
     "name": "stdout",
     "output_type": "stream",
     "text": [
      "average acc: 11.03\n"
     ]
    }
   ],
   "source": [
    "# accuracy of reduced network\n",
    "averge_accuracy(model_cifar_reduced_scratch,testloader)"
   ]
  },
  {
   "cell_type": "code",
   "execution_count": 120,
   "metadata": {},
   "outputs": [
    {
     "name": "stdout",
     "output_type": "stream",
     "text": [
      "SGD (\n",
      "Parameter Group 0\n",
      "    dampening: 0\n",
      "    foreach: None\n",
      "    lr: 0.001\n",
      "    maximize: False\n",
      "    momentum: 0.9\n",
      "    nesterov: False\n",
      "    weight_decay: 0\n",
      ")\n",
      "epoch: 0\n"
     ]
    },
    {
     "name": "stderr",
     "output_type": "stream",
     "text": [
      "c:\\Users\\sulta\\anaconda3\\lib\\site-packages\\torch\\autograd\\profiler.py:160: UserWarning: CUDA is not available, disabling CUDA profiling\n",
      "  warn(\"CUDA is not available, disabling CUDA profiling\")\n"
     ]
    },
    {
     "name": "stdout",
     "output_type": "stream",
     "text": [
      "[1,  2000] loss: 2.199 acc: 17.788\n",
      "[1,  4000] loss: 1.813 acc: 33.388\n",
      "[1,  6000] loss: 1.665 acc: 38.862\n",
      "[1,  8000] loss: 1.559 acc: 43.138\n",
      "[1, 10000] loss: 1.501 acc: 46.263\n",
      "[1, 12000] loss: 1.466 acc: 46.825\n",
      "epoch: 1\n",
      "[2,  2000] loss: 1.726 acc: 49.770\n",
      "[2,  4000] loss: 1.361 acc: 50.212\n",
      "[2,  6000] loss: 1.319 acc: 53.337\n",
      "[2,  8000] loss: 1.298 acc: 53.688\n",
      "[2, 10000] loss: 1.292 acc: 54.000\n",
      "[2, 12000] loss: 1.245 acc: 56.337\n",
      "epoch: 2\n",
      "[3,  2000] loss: 1.495 acc: 57.640\n",
      "[3,  4000] loss: 1.203 acc: 58.275\n",
      "[3,  6000] loss: 1.189 acc: 57.700\n",
      "[3,  8000] loss: 1.149 acc: 59.212\n",
      "[3, 10000] loss: 1.188 acc: 58.663\n",
      "[3, 12000] loss: 1.141 acc: 59.650\n",
      "epoch: 3\n",
      "[4,  2000] loss: 1.366 acc: 60.750\n",
      "[4,  4000] loss: 1.090 acc: 61.788\n",
      "[4,  6000] loss: 1.080 acc: 62.513\n",
      "[4,  8000] loss: 1.064 acc: 62.625\n",
      "[4, 10000] loss: 1.096 acc: 61.050\n",
      "[4, 12000] loss: 1.080 acc: 62.087\n",
      "epoch: 4\n",
      "[5,  2000] loss: 1.269 acc: 64.190\n",
      "[5,  4000] loss: 1.022 acc: 63.600\n",
      "[5,  6000] loss: 1.017 acc: 64.213\n",
      "[5,  8000] loss: 1.024 acc: 64.100\n",
      "[5, 10000] loss: 1.023 acc: 64.500\n",
      "[5, 12000] loss: 1.016 acc: 64.537\n",
      "Finished Training\n"
     ]
    }
   ],
   "source": [
    "#train reduced network\n",
    "training(model_cifar_reduced_scratch, trainloader, 5)"
   ]
  },
  {
   "cell_type": "code",
   "execution_count": 121,
   "metadata": {},
   "outputs": [
    {
     "name": "stdout",
     "output_type": "stream",
     "text": [
      "average acc: 62.04\n"
     ]
    }
   ],
   "source": [
    "path_reduced_net_scratch = './isomap_reduced_network/cifar/cifar_small_net_scratch.pt'\n",
    "averge_accuracy(model_cifar_reduced_scratch, testloader)\n",
    "torch.save(model_cifar_reduced_scratch, path_reduced_net_scratch)"
   ]
  },
  {
   "cell_type": "markdown",
   "metadata": {},
   "source": [
    "## reduced untrained network"
   ]
  },
  {
   "cell_type": "code",
   "execution_count": 122,
   "metadata": {},
   "outputs": [
    {
     "name": "stdout",
     "output_type": "stream",
     "text": [
      "torch.Size([60, 400])\n"
     ]
    }
   ],
   "source": [
    "cifar_fc1 = model_cifar.fc1.weight.detach().numpy().T\n",
    "fa_cifar = nonlin.Isomap(n_components=60, n_neighbors=10)\n",
    "fc_1_reduced_cifar = fa_cifar.fit_transform(cifar_fc1)\n",
    "fc_1_reduced_cifar = torch.tensor(fc_1_reduced_cifar.T,  dtype=torch.float32)\n",
    "print(fc_1_reduced_cifar.shape)\n",
    "\n"
   ]
  },
  {
   "cell_type": "code",
   "execution_count": 123,
   "metadata": {},
   "outputs": [
    {
     "name": "stdout",
     "output_type": "stream",
     "text": [
      "torch.Size([120, 60])\n",
      "torch.Size([84, 60])\n"
     ]
    }
   ],
   "source": [
    "m_projection_60 = torch.mm(model_cifar.fc1.weight,\n",
    "               fc_1_reduced_cifar.T)\n",
    "print(m_projection_60.shape)\n",
    "cifar_wfc2 = torch.mm(model_mnist.fc2.weight, m_projection_60)\n",
    "print(cifar_wfc2.shape)\n"
   ]
  },
  {
   "cell_type": "code",
   "execution_count": 124,
   "metadata": {},
   "outputs": [
    {
     "name": "stdout",
     "output_type": "stream",
     "text": [
      "torch.Size([42, 60])\n"
     ]
    }
   ],
   "source": [
    "cifar_isomap = nonlin.Isomap(n_components=21)\n",
    "cifar_wfc2_r = cifar_wfc2.reshape(42, -1)\n",
    "cifar_wfc2_r = cifar_isomap.fit_transform(cifar_wfc2_r.detach().numpy().T).T\n",
    "cifar_wfc2_r = cifar_wfc2_r.reshape(-1, 42)\n",
    "cifar_wfc2_r = torch.tensor(cifar_wfc2_r, dtype=torch.float)\n",
    "cifar_wfc2_r = cifar_wfc2_r.T\n",
    "print(cifar_wfc2_r.shape)\n"
   ]
  },
  {
   "cell_type": "code",
   "execution_count": 125,
   "metadata": {},
   "outputs": [
    {
     "name": "stdout",
     "output_type": "stream",
     "text": [
      "torch.Size([42, 84])\n",
      "torch.Size([10, 42])\n"
     ]
    }
   ],
   "source": [
    "cifar_wfc3_r = torch.mm(cifar_wfc2_r, cifar_wfc2.T)\n",
    "print(cifar_wfc3_r.shape)\n",
    "\n",
    "\n",
    "cifar_wfc3_r = torch.mm(model_cifar.fc3.weight, cifar_wfc3_r.T)\n",
    "print(cifar_wfc3_r.shape)\n"
   ]
  },
  {
   "cell_type": "code",
   "execution_count": 126,
   "metadata": {},
   "outputs": [
    {
     "data": {
      "text/plain": [
       "NN2(\n",
       "  (conv1): Conv2d(3, 12, kernel_size=(5, 5), stride=(1, 1))\n",
       "  (pool): MaxPool2d(kernel_size=(2, 2), stride=2, padding=0, dilation=1, ceil_mode=False)\n",
       "  (conv2): Conv2d(12, 16, kernel_size=(5, 5), stride=(1, 1))\n",
       "  (fc1): Linear(in_features=400, out_features=60, bias=True)\n",
       "  (fc2): Linear(in_features=60, out_features=42, bias=True)\n",
       "  (fc3): Linear(in_features=42, out_features=10, bias=True)\n",
       "  (soft): Softmax(dim=0)\n",
       ")"
      ]
     },
     "execution_count": 126,
     "metadata": {},
     "output_type": "execute_result"
    }
   ],
   "source": [
    "cifar_layer2 = (nn.Linear(400, 60), nn.Linear(60, 42), nn.Linear(42,10))\n",
    "cifar_weights = (fc_1_reduced_cifar, cifar_wfc2_r, cifar_wfc3_r)\n",
    "cifar_reduced_model_untrained = construct_model(NN2(is_norm=True), cifar_layer2)\n",
    "cifar_reduced_model_untrained = are_weights(cifar_reduced_model_untrained, cifar_weights)\n",
    "cifar_reduced_model_untrained.eval()\n"
   ]
  },
  {
   "cell_type": "code",
   "execution_count": 127,
   "metadata": {},
   "outputs": [],
   "source": [
    "path_cifar_untrained_dr_network = './isomap_reduced_network/cifar/cifar_untrained_dr_network.pt'\n",
    "torch.save(cifar_reduced_model_untrained, path_cifar_untrained_dr_network)"
   ]
  },
  {
   "cell_type": "markdown",
   "metadata": {},
   "source": [
    "## DR reduced network trained"
   ]
  },
  {
   "cell_type": "code",
   "execution_count": 128,
   "metadata": {},
   "outputs": [],
   "source": [
    "cifar_layer3 = (nn.Linear(400, 60), nn.Linear(60, 42), nn.Linear(42,10))\n",
    "cifar_reduced_model_trained = construct_model(NN2(is_norm=True), cifar_layer3)\n",
    "cifar_reduced_model_trained = are_weights(cifar_reduced_model_untrained, cifar_weights)"
   ]
  },
  {
   "cell_type": "code",
   "execution_count": 129,
   "metadata": {},
   "outputs": [
    {
     "name": "stdout",
     "output_type": "stream",
     "text": [
      "SGD (\n",
      "Parameter Group 0\n",
      "    dampening: 0\n",
      "    foreach: None\n",
      "    lr: 0.001\n",
      "    maximize: False\n",
      "    momentum: 0.9\n",
      "    nesterov: False\n",
      "    weight_decay: 0\n",
      ")\n",
      "epoch: 0\n"
     ]
    },
    {
     "name": "stderr",
     "output_type": "stream",
     "text": [
      "c:\\Users\\sulta\\anaconda3\\lib\\site-packages\\torch\\autograd\\profiler.py:160: UserWarning: CUDA is not available, disabling CUDA profiling\n",
      "  warn(\"CUDA is not available, disabling CUDA profiling\")\n"
     ]
    },
    {
     "name": "stdout",
     "output_type": "stream",
     "text": [
      "[1,  2000] loss: 2.210 acc: 19.587\n",
      "[1,  4000] loss: 2.114 acc: 26.525\n",
      "[1,  6000] loss: 2.070 acc: 31.750\n",
      "[1,  8000] loss: 2.059 acc: 32.888\n",
      "[1, 10000] loss: 2.045 acc: 34.900\n",
      "[1, 12000] loss: 2.031 acc: 36.062\n",
      "epoch: 1\n",
      "[2,  2000] loss: 2.519 acc: 37.790\n",
      "[2,  4000] loss: 2.013 acc: 38.913\n",
      "[2,  6000] loss: 2.005 acc: 40.038\n",
      "[2,  8000] loss: 1.993 acc: 41.788\n",
      "[2, 10000] loss: 1.993 acc: 41.425\n",
      "[2, 12000] loss: 1.993 acc: 41.300\n",
      "epoch: 2\n",
      "[3,  2000] loss: 2.473 acc: 43.870\n",
      "[3,  4000] loss: 1.974 acc: 44.500\n",
      "[3,  6000] loss: 1.974 acc: 44.513\n",
      "[3,  8000] loss: 1.968 acc: 45.725\n",
      "[3, 10000] loss: 1.963 acc: 45.925\n",
      "[3, 12000] loss: 1.964 acc: 45.875\n",
      "epoch: 3\n",
      "[4,  2000] loss: 2.449 acc: 47.130\n",
      "[4,  4000] loss: 1.951 acc: 47.075\n",
      "[4,  6000] loss: 1.949 acc: 48.013\n",
      "[4,  8000] loss: 1.951 acc: 47.775\n",
      "[4, 10000] loss: 1.949 acc: 48.275\n",
      "[4, 12000] loss: 1.947 acc: 48.362\n",
      "epoch: 4\n",
      "[5,  2000] loss: 2.425 acc: 49.760\n",
      "[5,  4000] loss: 1.941 acc: 49.425\n",
      "[5,  6000] loss: 1.939 acc: 50.100\n",
      "[5,  8000] loss: 1.937 acc: 50.288\n",
      "[5, 10000] loss: 1.932 acc: 50.538\n",
      "[5, 12000] loss: 1.931 acc: 50.975\n",
      "Finished Training\n"
     ]
    }
   ],
   "source": [
    "training(cifar_reduced_model_trained, trainloader, 5)\n"
   ]
  },
  {
   "cell_type": "code",
   "execution_count": 130,
   "metadata": {},
   "outputs": [],
   "source": [
    "path_cifar_trained_dr_network = './isomap_reduced_network/cifar/cifar_trained_dr_network.pt'\n",
    "torch.save(cifar_reduced_model_trained, path_cifar_trained_dr_network)"
   ]
  },
  {
   "attachments": {},
   "cell_type": "markdown",
   "metadata": {},
   "source": [
    "## Pruning cifar10 model"
   ]
  },
  {
   "cell_type": "code",
   "execution_count": 186,
   "metadata": {},
   "outputs": [
    {
     "data": {
      "text/plain": [
       "NN2(\n",
       "  (conv1): Conv2d(3, 12, kernel_size=(5, 5), stride=(1, 1))\n",
       "  (pool): MaxPool2d(kernel_size=(2, 2), stride=2, padding=0, dilation=1, ceil_mode=False)\n",
       "  (conv2): Conv2d(12, 16, kernel_size=(5, 5), stride=(1, 1))\n",
       "  (fc1): Linear(in_features=400, out_features=120, bias=True)\n",
       "  (fc2): Linear(in_features=120, out_features=84, bias=True)\n",
       "  (fc3): Linear(in_features=84, out_features=10, bias=True)\n",
       "  (soft): Softmax(dim=0)\n",
       ")"
      ]
     },
     "execution_count": 186,
     "metadata": {},
     "output_type": "execute_result"
    }
   ],
   "source": [
    "path_cifar10_original_net = './isomap_reduced_network/cifar/cifar_original_net.pt'\n",
    "cifar10_model = torch.load(path_cifar10_original_net)\n",
    "cifar10_model.eval()"
   ]
  },
  {
   "cell_type": "code",
   "execution_count": 187,
   "metadata": {},
   "outputs": [
    {
     "name": "stdout",
     "output_type": "stream",
     "text": [
      "average acc: 64.22\n"
     ]
    }
   ],
   "source": [
    "averge_accuracy(cifar10_model, testloader)"
   ]
  },
  {
   "cell_type": "code",
   "execution_count": 188,
   "metadata": {},
   "outputs": [
    {
     "name": "stdout",
     "output_type": "stream",
     "text": [
      "OrderedDict([(36, <torch.nn.utils.prune.RandomUnstructured object at 0x000001A587461F10>)])\n",
      "OrderedDict([(37, <torch.nn.utils.prune.RandomUnstructured object at 0x000001A5AC1F8D30>)])\n",
      "OrderedDict([(38, <torch.nn.utils.prune.RandomUnstructured object at 0x000001A5AC1F8C40>)])\n"
     ]
    }
   ],
   "source": [
    "cifar10_model_pruned = copy.deepcopy(cifar10_model)\n",
    "prune_function(cifar10_model_pruned, 0.3)\n"
   ]
  },
  {
   "cell_type": "code",
   "execution_count": 189,
   "metadata": {},
   "outputs": [
    {
     "name": "stdout",
     "output_type": "stream",
     "text": [
      "average acc: 64.22\n",
      "average acc: 52.36\n"
     ]
    }
   ],
   "source": [
    "averge_accuracy(cifar10_model, testloader)\n",
    "\n",
    "averge_accuracy(cifar10_model_pruned, testloader)\n"
   ]
  },
  {
   "cell_type": "code",
   "execution_count": 190,
   "metadata": {},
   "outputs": [
    {
     "data": {
      "text/plain": [
       "NN2(\n",
       "  (conv1): Conv2d(3, 12, kernel_size=(5, 5), stride=(1, 1))\n",
       "  (pool): MaxPool2d(kernel_size=(2, 2), stride=2, padding=0, dilation=1, ceil_mode=False)\n",
       "  (conv2): Conv2d(12, 16, kernel_size=(5, 5), stride=(1, 1))\n",
       "  (fc1): Linear(in_features=400, out_features=120, bias=True)\n",
       "  (fc2): Linear(in_features=120, out_features=84, bias=True)\n",
       "  (fc3): Linear(in_features=84, out_features=10, bias=True)\n",
       "  (soft): Softmax(dim=0)\n",
       ")"
      ]
     },
     "execution_count": 190,
     "metadata": {},
     "output_type": "execute_result"
    }
   ],
   "source": [
    "cifar10_model_pruned.eval()"
   ]
  },
  {
   "cell_type": "code",
   "execution_count": 191,
   "metadata": {},
   "outputs": [],
   "source": [
    "path = './isomap_reduced_network/cifar/pruned/pruned_cifar_original_net.pt'\n",
    "torch.save(cifar10_model_pruned, path)\n"
   ]
  },
  {
   "cell_type": "code",
   "execution_count": 192,
   "metadata": {},
   "outputs": [
    {
     "name": "stdout",
     "output_type": "stream",
     "text": [
      "x_new vector\n",
      "(400, 60)\n",
      "torch.Size([120, 60])\n",
      "torch.Size([84, 60])\n",
      "torch.Size([42, 60])\n",
      "torch.Size([42, 84])\n",
      "torch.Size([10, 42])\n"
     ]
    }
   ],
   "source": [
    "cifar_pruned_weight = cifar10_model_pruned.fc1.weight.detach().numpy().T\n",
    "iso = nonlin.Isomap(n_components=60)\n",
    "# x_new_1 = x_new_1.reshape(60,2)\n",
    "cifar_pruned_weight = iso.fit_transform(cifar_pruned_weight)\n",
    "# x_new_1 = x_new_1.flatten()\n",
    "# random_matrix = random.reshape(256, 1)\n",
    "# x_new_1_matrix = x_new_1.reshape(1,60)\n",
    "print(\"x_new vector\")\n",
    "print(cifar_pruned_weight.shape)\n",
    "\n",
    "# new_weight_matrixIguess = np.matmul(random_matrix, x_new_1_matrix)\n",
    "\n",
    "\n",
    "\n",
    "\n",
    "\n",
    "\n",
    "uuh = torch.mm(cifar10_model_pruned.fc1.weight, torch.tensor(cifar_pruned_weight, dtype=torch.float))\n",
    "print(uuh.shape)\n",
    "wfc2_pruned = torch.mm(cifar10_model_pruned.fc2.weight, uuh)\n",
    "print(wfc2_pruned.shape)\n",
    "\n",
    "\n",
    "blah = nonlin.Isomap(n_components=21)\n",
    "wfc2_r_pruned = wfc2_pruned.reshape(42, -1)\n",
    "wfc2_r_pruned = blah.fit_transform(wfc2_r_pruned.detach().numpy().T).T\n",
    "wfc2_r_pruned = wfc2_r_pruned.reshape(-1, 42)\n",
    "wfc2_r_pruned = torch.tensor(wfc2_r_pruned, dtype=torch.float)\n",
    "wfc2_r_pruned = wfc2_r_pruned.T\n",
    "print(wfc2_r_pruned.shape)\n",
    "\n",
    "\n",
    "wfc3_r_pruned = torch.mm(wfc2_r_pruned, wfc2_pruned.T)\n",
    "print(wfc3_r_pruned.shape)\n",
    "\n",
    "\n",
    "wfc3_r_pruned = torch.mm(cifar10_model_pruned.fc3.weight, wfc3_r_pruned.T)\n",
    "print(wfc3_r_pruned.shape)\n"
   ]
  },
  {
   "cell_type": "code",
   "execution_count": 193,
   "metadata": {},
   "outputs": [
    {
     "data": {
      "text/plain": [
       "NN2(\n",
       "  (conv1): Conv2d(3, 12, kernel_size=(5, 5), stride=(1, 1))\n",
       "  (pool): MaxPool2d(kernel_size=(2, 2), stride=2, padding=0, dilation=1, ceil_mode=False)\n",
       "  (conv2): Conv2d(12, 16, kernel_size=(5, 5), stride=(1, 1))\n",
       "  (fc1): Linear(in_features=400, out_features=60, bias=True)\n",
       "  (fc2): Linear(in_features=60, out_features=42, bias=True)\n",
       "  (fc3): Linear(in_features=42, out_features=10, bias=True)\n",
       "  (soft): Softmax(dim=0)\n",
       ")"
      ]
     },
     "execution_count": 193,
     "metadata": {},
     "output_type": "execute_result"
    }
   ],
   "source": [
    "cifar_weights = (torch.tensor(cifar_pruned_weight.T, dtype=torch.float32),wfc2_r_pruned,  wfc3_r_pruned)\n",
    "pruned_and_dr_cifar_network = construct_model(NN2(is_norm=True), (nn.Linear(400, 60), nn.Linear(60, 42), nn.Linear(42,10)))\n",
    "pruned_and_dr_cifar_network = are_weights(pruned_and_dr_cifar_network, cifar_weights)\n",
    "pruned_and_dr_cifar_network.eval()"
   ]
  },
  {
   "cell_type": "code",
   "execution_count": 194,
   "metadata": {},
   "outputs": [
    {
     "name": "stdout",
     "output_type": "stream",
     "text": [
      "average acc: 13.43\n"
     ]
    }
   ],
   "source": [
    "averge_accuracy(pruned_and_dr_cifar_network, testloader)\n"
   ]
  },
  {
   "cell_type": "code",
   "execution_count": 195,
   "metadata": {},
   "outputs": [],
   "source": [
    "path_pruned_n_dr_network = './isomap_reduced_network/cifar/pruned/dr_pruned_cifar_network.pt'\n",
    "torch.save(pruned_and_dr_cifar_network, path_pruned_n_dr_network )"
   ]
  }
 ],
 "metadata": {
  "kernelspec": {
   "display_name": "Python 3.9.12 ('base')",
   "language": "python",
   "name": "python3"
  },
  "language_info": {
   "codemirror_mode": {
    "name": "ipython",
    "version": 3
   },
   "file_extension": ".py",
   "mimetype": "text/x-python",
   "name": "python",
   "nbconvert_exporter": "python",
   "pygments_lexer": "ipython3",
   "version": "3.9.12"
  },
  "orig_nbformat": 4,
  "vscode": {
   "interpreter": {
    "hash": "3f8eb618b7b569c23d3b4b5bc22124c155d58b9880b777276332025b24a4c4f7"
   }
  }
 },
 "nbformat": 4,
 "nbformat_minor": 2
}
