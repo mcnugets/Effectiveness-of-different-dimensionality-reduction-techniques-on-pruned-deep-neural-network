{
 "cells": [
  {
   "cell_type": "code",
   "execution_count": 1,
   "metadata": {},
   "outputs": [],
   "source": [
    "import os\n",
    "import torch\n",
    "import torch.nn as nn\n",
    "import torch.nn.functional as F\n",
    "from torch.utils.data import DataLoader\n",
    "from torchvision import datasets, transforms\n",
    "import sklearn as sk\n",
    "from sklearn import decomposition as dec\n",
    "import torch\n",
    "import torchvision\n",
    "import torchvision.transforms as transforms\n",
    "import matplotlib.pyplot as plt\n",
    "import numpy as np\n",
    "import torch.nn.utils.prune as prune\n",
    "import  sklearn.manifold as nonlin\n"
   ]
  },
  {
   "cell_type": "code",
   "execution_count": 47,
   "metadata": {},
   "outputs": [
    {
     "name": "stdout",
     "output_type": "stream",
     "text": [
      "Files already downloaded and verified\n",
      "Files already downloaded and verified\n"
     ]
    }
   ],
   "source": [
    "transform = transforms.Compose(\n",
    "    [transforms.ToTensor(),\n",
    "     transforms.Normalize((0.5), (0.5))])\n",
    "\n",
    "batch_size = 4\n",
    "\n",
    "trainset = torchvision.datasets.CIFAR10(root='./data', train=True,\n",
    "                                        download=True, transform=transform)\n",
    "\n",
    "\n",
    "trainloader = torch.utils.data.DataLoader(trainset, batch_size=batch_size,\n",
    "                                          shuffle=True, num_workers=2)\n",
    "\n",
    "testset = torchvision.datasets.CIFAR10(root='./data', train=False,\n",
    "                                       download=True, transform=transform)\n",
    "testloader = torch.utils.data.DataLoader(testset, batch_size=batch_size,\n",
    "                                         shuffle=False, num_workers=2)\n",
    "\n",
    "classes = ('plane', 'car', 'bird', 'cat',\n",
    "           'deer', 'dog', 'frog', 'horse', 'ship', 'truck')\n",
    "\n",
    "mnist_train = torchvision.datasets.MNIST(root='./data', train=True,\n",
    "                                        download=True, transform=transform)\n",
    "mnist_test = torchvision.datasets.MNIST(root='./data', train=False,\n",
    "                                       download=True, transform=transform)\n",
    "\n",
    "trainloader_mnist =  torch.utils.data.DataLoader(mnist_train, batch_size=batch_size,\n",
    "                                          shuffle=True, num_workers=2)\n",
    "testloader_mnist =  torch.utils.data.DataLoader(mnist_test, batch_size=batch_size,\n",
    "                                          shuffle=True, num_workers=2)\n",
    "\n",
    "\n",
    "\n",
    "                                        \n"
   ]
  },
  {
   "cell_type": "code",
   "execution_count": 48,
   "metadata": {},
   "outputs": [],
   "source": [
    "class NN(nn.Module):\n",
    "    def __init__(self):\n",
    "        super().__init__()\n",
    "        self.conv1 = nn.Conv2d(\n",
    "            in_channels=1, out_channels=12, kernel_size=(5, 5))\n",
    "        self.pool = nn.MaxPool2d(kernel_size=(2), stride=2)\n",
    "        self.conv2 = nn.Conv2d(\n",
    "            in_channels=12, out_channels=16, kernel_size=(5, 5))\n",
    "        self.fc1 = nn.Linear(256, 120)\n",
    "        self.fc2 = nn.Linear(120, 84)\n",
    "        self.fc3 = nn.Linear(84, 10)\n",
    "\n",
    "        # self.conv1 = nn.Conv2d(3, 6, 5)\n",
    "        # self.pool = nn.MaxPool2d(2, 2)\n",
    "        # self.conv2 = nn.Conv2d(6, 16, 5)\n",
    "        # self.fc1 = nn.Linear(16 * 5 * 5, 120)\n",
    "        # self.fc2 = nn.Linear(120, 84)\n",
    "        # self.fc3 = nn.Linear(84, 10)\n",
    "\n",
    "    def forward(self, x):\n",
    "        x = self.pool(F.relu(self.conv1(x)))\n",
    "        x = self.pool(F.relu(self.conv2(x)))\n",
    "        x = torch.flatten(x, 1)  # flatten all dimensions except batch\n",
    "        x = F.relu(self.fc1(x))\n",
    "        x = F.relu(self.fc2(x))\n",
    "        x = self.fc3(x)\n",
    "        return x\n"
   ]
  },
  {
   "cell_type": "code",
   "execution_count": 36,
   "metadata": {},
   "outputs": [
    {
     "data": {
      "text/plain": [
       "NN(\n",
       "  (conv1): Conv2d(3, 12, kernel_size=(5, 5), stride=(1, 1))\n",
       "  (pool): MaxPool2d(kernel_size=(2, 2), stride=2, padding=0, dilation=1, ceil_mode=False)\n",
       "  (conv2): Conv2d(12, 16, kernel_size=(5, 5), stride=(1, 1))\n",
       "  (fc1): Linear(in_features=400, out_features=120, bias=True)\n",
       "  (fc2): Linear(in_features=120, out_features=84, bias=True)\n",
       "  (fc3): Linear(in_features=84, out_features=10, bias=True)\n",
       ")"
      ]
     },
     "execution_count": 36,
     "metadata": {},
     "output_type": "execute_result"
    }
   ],
   "source": [
    "path = './cifar_net.pt'\n",
    "model = nn.Module()\n",
    "model = torch.load(path)\n",
    "model.eval()"
   ]
  },
  {
   "cell_type": "code",
   "execution_count": 88,
   "metadata": {},
   "outputs": [
    {
     "data": {
      "text/plain": [
       "NN(\n",
       "  (conv1): Conv2d(1, 12, kernel_size=(5, 5), stride=(1, 1))\n",
       "  (pool): MaxPool2d(kernel_size=2, stride=2, padding=0, dilation=1, ceil_mode=False)\n",
       "  (conv2): Conv2d(12, 16, kernel_size=(5, 5), stride=(1, 1))\n",
       "  (fc1): Linear(in_features=256, out_features=120, bias=True)\n",
       "  (fc2): Linear(in_features=120, out_features=84, bias=True)\n",
       "  (fc3): Linear(in_features=84, out_features=10, bias=True)\n",
       ")"
      ]
     },
     "execution_count": 88,
     "metadata": {},
     "output_type": "execute_result"
    }
   ],
   "source": [
    "path_mnist = './custom_nn_mnist.pt'\n",
    "model_mnist = torch.load(path_mnist)\n",
    "model_mnist.eval()\n"
   ]
  },
  {
   "cell_type": "code",
   "execution_count": null,
   "metadata": {},
   "outputs": [],
   "source": []
  },
  {
   "cell_type": "code",
   "execution_count": 89,
   "metadata": {},
   "outputs": [],
   "source": [
    "random = torch.randn(256)"
   ]
  },
  {
   "cell_type": "code",
   "execution_count": 278,
   "metadata": {},
   "outputs": [
    {
     "name": "stdout",
     "output_type": "stream",
     "text": [
      "x_new vector\n",
      "(256, 60)\n"
     ]
    }
   ],
   "source": [
    "x_new_1 = model_mnist.fc1.weight.detach().numpy().T\n",
    "iso = nonlin.Isomap(n_components=60)\n",
    "# x_new_1 = x_new_1.reshape(60,2)\n",
    "x_new_1 = iso.fit_transform(x_new_1)\n",
    "# x_new_1 = x_new_1.flatten()\n",
    "# random_matrix = random.reshape(256, 1)\n",
    "# x_new_1_matrix = x_new_1.reshape(1,60)\n",
    "print(\"x_new vector\")\n",
    "print(x_new_1.shape)\n",
    "\n",
    "# new_weight_matrixIguess = np.matmul(random_matrix, x_new_1_matrix)\n",
    "\n"
   ]
  },
  {
   "cell_type": "code",
   "execution_count": 322,
   "metadata": {},
   "outputs": [
    {
     "name": "stdout",
     "output_type": "stream",
     "text": [
      "torch.Size([120, 60])\n",
      "torch.Size([84, 60])\n"
     ]
    }
   ],
   "source": [
    "uuh = torch.mm(model_mnist.fc1.weight, torch.tensor(x_new_1, dtype=torch.float))\n",
    "print(uuh.shape)\n",
    "wfc2 = torch.mm(model_mnist.fc2.weight, uuh)\n",
    "print(wfc2.shape)\n",
    "# wfc2 = model_mnist.fc2.weight.detach().numpy()\n",
    "# wfc2 = wfc2.reshape(-1,60)\n",
    "# isomap_ = nonlin.Isomap(n_components=30, n_neighbors=5)\n",
    "# wfc2_reduced = isomap_.fit_transform(wfc2)\n",
    "# wfc2_reduced = wfc2_reduced.reshape(-1, 60)\n",
    "\n",
    "# print('second dimension reduced:')\n",
    "\n",
    "# wfc2_reduced = torch.tensor(wfc2_reduced, dtype=torch.float32)\n",
    "# print(wfc2_reduced.shape)"
   ]
  },
  {
   "cell_type": "code",
   "execution_count": 366,
   "metadata": {},
   "outputs": [
    {
     "name": "stdout",
     "output_type": "stream",
     "text": [
      "tensor(0.3451, grad_fn=<NormBackward1>)\n",
      "tensor(74.3421, grad_fn=<MulBackward0>)\n",
      "cosine similarity\n",
      "tensor(94.0442, grad_fn=<MulBackward0>)\n"
     ]
    }
   ],
   "source": [
    "f = nn.Linear(256, 60, bias=False)\n",
    "f2 = nn.Linear(60, 84, bias=False)\n",
    "f3 = nn.Linear(84, 10, bias=False)\n",
    "f.weight.data = torch.tensor(x_new_1.T, dtype=torch.float32)\n",
    "f2.weight.data = wfc2\n",
    "f3.weight = model_mnist.fc3.weight\n",
    "\n",
    "g = nn.Linear(256, 120, bias=False)\n",
    "g2 = nn.Linear(120, 84, bias=False)\n",
    "g3 = nn.Linear(84,10,bias=False)\n",
    "g.weight = model_mnist.fc1.weight\n",
    "g2.weight = model_mnist.fc2.weight\n",
    "g3.weight = model_mnist.fc3.weight\n",
    "\n",
    "\n",
    "suka = torch.rand([60,84])\n",
    "suka2 = torch.rand([120,84])\n",
    "ff = f(random)\n",
    "ff = f2(ff)\n",
    "ff = f3(ff)\n",
    "gg = g(random)\n",
    "gg = g2(gg)\n",
    "gg = g3(gg)\n",
    "\n",
    "output1 = nn.functional.normalize(ff, dim=0)\n",
    "output2 = nn.functional.normalize(gg, dim=0)\n",
    "\n",
    "dist = torch.pairwise_distance(output1, output2)\n",
    "print(dist)\n",
    "ans = 1/(dist + 1) * 100\n",
    "print(ans)\n",
    "\n",
    "print(\"cosine similarity\")\n",
    "cos = nn.CosineSimilarity(dim=0)\n",
    "print(cos(output1, output2) * 100)\n",
    "\n"
   ]
  },
  {
   "cell_type": "code",
   "execution_count": 51,
   "metadata": {},
   "outputs": [
    {
     "name": "stdout",
     "output_type": "stream",
     "text": [
      "tensor([-0.5093, 10.7150, -0.0736, -8.4573,  7.4311, -0.9365, -1.6053,  2.1383,\n",
      "        -8.8714, -2.8670], grad_fn=<AddBackward0>)\n"
     ]
    }
   ],
   "source": [
    "x_new_1 = model_mnist.fc1(random)\n",
    "x_new = model_mnist.fc2(x_new_1)\n",
    "x_new = model_mnist.fc3(x_new)\n",
    "print(x_new)\n"
   ]
  },
  {
   "cell_type": "code",
   "execution_count": 57,
   "metadata": {},
   "outputs": [
    {
     "name": "stdout",
     "output_type": "stream",
     "text": [
      "torch.Size([60, 256])\n"
     ]
    }
   ],
   "source": [
    "fc_1 = model_mnist.fc1.weight.detach().numpy().T\n",
    "fa = nonlin.Isomap(n_components=60, n_neighbors=10)\n",
    "fc_1_reduced = fa.fit_transform(fc_1)\n",
    "fc_1_reduced = torch.tensor(fc_1_reduced.T,  dtype=torch.float32)\n",
    "print(fc_1_reduced.shape)\n",
    "\n",
    "\n"
   ]
  },
  {
   "cell_type": "code",
   "execution_count": 54,
   "metadata": {},
   "outputs": [
    {
     "name": "stdout",
     "output_type": "stream",
     "text": [
      "second dimension reduced:\n",
      "torch.Size([60, 42])\n"
     ]
    }
   ],
   "source": [
    "# fc_2 = nn.functional.relu(model_mnist.fc2.weight)\n",
    "fc_2 = model_mnist.fc2.weight.detach().numpy()\n",
    "fc_2 = fc_2.reshape(-1,60)\n",
    "isomap_ = nonlin.Isomap(n_components=30, n_neighbors=5)\n",
    "fc_2_reduced = isomap_.fit_transform(fc_2)\n",
    "fc_2_reduced = fc_2_reduced.reshape(-1, 120)\n",
    "fa_ouput = nonlin.Isomap(n_components=21)\n",
    "fc_2_reduced = fa_ouput.fit_transform(fc_2_reduced.T)\n",
    "fc_2_reduced = fc_2_reduced.reshape(-1, 42)\n",
    "fc_1_reduced = fc_2_reduced.T\n",
    "print('second dimension reduced:')\n",
    "\n",
    "fc_2_reduced = torch.tensor(fc_2_reduced, dtype=torch.float32)\n",
    "print(fc_2_reduced.shape)\n",
    "\n"
   ]
  },
  {
   "cell_type": "markdown",
   "metadata": {},
   "source": [
    "## Testing just dimensional reduction "
   ]
  },
  {
   "cell_type": "code",
   "execution_count": 55,
   "metadata": {},
   "outputs": [
    {
     "name": "stdout",
     "output_type": "stream",
     "text": [
      "torch.Size([10, 42])\n"
     ]
    }
   ],
   "source": [
    "fc_3 =  model_mnist.fc3.weight.detach().numpy().T\n",
    "fc3_Isomap = nonlin.Isomap(n_components=5, n_neighbors=10)\n",
    "fc_3_reduced = fc3_Isomap.fit_transform(fc_3)\n",
    "fc_3_reduced = fc_3_reduced.reshape(-1, 10)\n",
    "fc_3_reduced = torch.tensor(fc_3_reduced.T, dtype=torch.float32)\n",
    "print(fc_3_reduced.shape)\n"
   ]
  },
  {
   "cell_type": "code",
   "execution_count": 59,
   "metadata": {},
   "outputs": [],
   "source": [
    "model_mnist.fc1 = nn.Linear(256, 60,bias=True)\n",
    "model_mnist.fc2 = nn.Linear(60, 42,bias=True)\n",
    "model_mnist.fc3 = nn.Linear(42, 10,bias=True)\n",
    "\n",
    "model_mnist.fc1.weight = nn.Parameter(fc_1_reduced)\n",
    "model_mnist.fc2.weight = nn.Parameter(fc_2_reduced.T)\n",
    "model_mnist.fc3.weight = nn.Parameter(fc_3_reduced)\n"
   ]
  },
  {
   "cell_type": "code",
   "execution_count": 117,
   "metadata": {},
   "outputs": [
    {
     "name": "stdout",
     "output_type": "stream",
     "text": [
      "tensor([-1.6396,  1.5299,  3.4816, -1.8924,  0.8725, -1.7418, -1.1401,  3.4570,\n",
      "         0.1371, -3.7845], grad_fn=<AddBackward0>)\n"
     ]
    }
   ],
   "source": [
    "print(x_new)"
   ]
  },
  {
   "cell_type": "code",
   "execution_count": 27,
   "metadata": {},
   "outputs": [
    {
     "name": "stdout",
     "output_type": "stream",
     "text": [
      "tensor([  8.2577, -18.1993,   9.7784,   1.0847, -15.9523,   6.3733,  26.0245,\n",
      "        -10.8813,  -0.4002, -10.5237], grad_fn=<AddBackward0>)\n"
     ]
    }
   ],
   "source": [
    "x_new_2 = model_mnist.fc1(random)\n",
    "x_new_2 = model_mnist.fc2(x_new_2)\n",
    "x_new_2 = model_mnist.fc3(x_new_2)\n",
    "print(x_new_2)\n"
   ]
  },
  {
   "cell_type": "code",
   "execution_count": 67,
   "metadata": {},
   "outputs": [
    {
     "name": "stdout",
     "output_type": "stream",
     "text": [
      "average acc: 97.19\n"
     ]
    }
   ],
   "source": [
    "total = 0\n",
    "acc=0\n",
    "correct = 0\n",
    "for data in testloader_mnist:\n",
    "    pics, lables = data\n",
    "    output = model_mnist(pics)\n",
    "    _, pred = torch.max(output.data, 1)\n",
    "    correct += (pred == lables).sum().item()\n",
    "    total += lables.size(0)\n",
    "\n",
    "print('average acc:', 100 * correct/ total)\n",
    "\n"
   ]
  },
  {
   "cell_type": "code",
   "execution_count": 190,
   "metadata": {},
   "outputs": [
    {
     "data": {
      "text/plain": [
       "NN(\n",
       "  (conv1): Conv2d(1, 12, kernel_size=(5, 5), stride=(1, 1))\n",
       "  (pool): MaxPool2d(kernel_size=2, stride=2, padding=0, dilation=1, ceil_mode=False)\n",
       "  (conv2): Conv2d(12, 16, kernel_size=(5, 5), stride=(1, 1))\n",
       "  (fc1): Linear(in_features=256, out_features=120, bias=True)\n",
       "  (fc2): Linear(in_features=120, out_features=84, bias=True)\n",
       "  (fc3): Linear(in_features=84, out_features=10, bias=True)\n",
       ")"
      ]
     },
     "execution_count": 190,
     "metadata": {},
     "output_type": "execute_result"
    }
   ],
   "source": [
    "model_mnist.eval()"
   ]
  },
  {
   "cell_type": "code",
   "execution_count": 62,
   "metadata": {},
   "outputs": [
    {
     "name": "stdout",
     "output_type": "stream",
     "text": [
      "SGD (\n",
      "Parameter Group 0\n",
      "    dampening: 0\n",
      "    foreach: None\n",
      "    lr: 0.001\n",
      "    maximize: False\n",
      "    momentum: 0.9\n",
      "    nesterov: False\n",
      "    weight_decay: 0\n",
      ")\n",
      "epoch: 0\n",
      "[1,  2000] loss: 0.592 acc: 86.838\n",
      "[1,  4000] loss: 0.199 acc: 94.162\n",
      "[1,  6000] loss: 0.160 acc: 95.312\n",
      "[1,  8000] loss: 0.130 acc: 96.325\n",
      "[1, 10000] loss: 0.115 acc: 96.638\n",
      "[1, 12000] loss: 0.113 acc: 96.625\n",
      "[1, 14000] loss: 0.098 acc: 97.025\n",
      "epoch: 1\n",
      "[2,  2000] loss: 0.136 acc: 97.308\n",
      "[2,  4000] loss: 0.090 acc: 97.425\n",
      "[2,  6000] loss: 0.088 acc: 97.388\n",
      "[2,  8000] loss: 0.082 acc: 97.525\n",
      "[2, 10000] loss: 0.068 acc: 97.912\n",
      "[2, 12000] loss: 0.072 acc: 98.025\n",
      "[2, 14000] loss: 0.067 acc: 98.013\n",
      "Finished Training\n"
     ]
    }
   ],
   "source": [
    "from torch.profiler import profile, record_function, ProfilerActivity\n",
    "import torch.optim as optim\n",
    "running_loss = 0.0\n",
    "total = 0.0\n",
    "correct = 0.0\n",
    "loss_nodr =[]\n",
    "acc_nodr = []\n",
    "device = torch.device('cuda:0' if torch.cuda.is_available() else 'cpu')\n",
    "\n",
    "\n",
    "criterion = nn.CrossEntropyLoss()\n",
    "optimizer = optim.SGD(model_mnist.parameters(), lr=0.001, momentum=0.9)\n",
    "\n",
    "print(optimizer)\n",
    "\n",
    "\n",
    "\n",
    "\n",
    "for epoch in range(2):\n",
    "    \n",
    "    print('epoch:', epoch)\n",
    "    for i, data in enumerate(trainloader_mnist):\n",
    "        \n",
    "        inputs, labels = data\n",
    "        inputs = inputs.to(device)\n",
    "        labels = labels.to(device)\n",
    "\n",
    "        optimizer.zero_grad(True)\n",
    "        with torch.set_grad_enabled(True):\n",
    "            with profile(activities=[ProfilerActivity.CPU, ProfilerActivity.CUDA]) as prof:\n",
    "             outputs = model_mnist(inputs).to(device)\n",
    "            loss = criterion(outputs, labels)\n",
    "            loss.backward()\n",
    "            optimizer.step()\n",
    "            _, predicted = torch.max(outputs.data, 1)\n",
    "            total += labels.size(0)\n",
    "            correct += (predicted == labels).sum().item()\n",
    "\n",
    "        running_loss += loss.item()\n",
    "        if i % 2000 == 1999:\n",
    "            loss_temp = running_loss / 2000\n",
    "            acc_temp = 100 * correct / total\n",
    "            loss_nodr.append(loss_temp)\n",
    "            acc_nodr.append(acc_temp)\n",
    "            print(\n",
    "                f'[{epoch + 1}, {i + 1:5d}] loss: {loss_temp:.3f} acc: {acc_temp:.3f}')\n",
    "            running_loss = 0.0\n",
    "            correct = 0.0\n",
    "            total = 0.0\n",
    "print('Finished Training')\n"
   ]
  },
  {
   "cell_type": "code",
   "execution_count": 71,
   "metadata": {},
   "outputs": [],
   "source": [
    "path = './custom_nn_mnist.pt'\n",
    "torch.save(model_mnist, path)"
   ]
  },
  {
   "cell_type": "code",
   "execution_count": 30,
   "metadata": {},
   "outputs": [],
   "source": [
    "path ='./custom_nn_mnist_isomap.pt'\n",
    "torch.save(model_mnist, path)"
   ]
  },
  {
   "cell_type": "code",
   "execution_count": 79,
   "metadata": {},
   "outputs": [],
   "source": [
    "def mfun(matrix, weight_matrix):\n",
    "    for a in range(matrix.shape[0]):\n",
    "        for b in range(matrix.shape[1]):\n",
    "            matrix[a][b] = weight_matrix[a][b]\n",
    "    return matrix\n"
   ]
  },
  {
   "cell_type": "code",
   "execution_count": 81,
   "metadata": {},
   "outputs": [
    {
     "name": "stdout",
     "output_type": "stream",
     "text": [
      "torch.Size([60, 256])\n"
     ]
    }
   ],
   "source": [
    "m1 = torch.zeros([60, 256])\n",
    "m2 = torch.zeros([42, 60])\n",
    "m3 = torch.zeros([10, 42])\n",
    "\n",
    "m1 = mfun(m1, model_mnist.fc1.weight)\n",
    "m2 = mfun(m2, model_mnist.fc2.weight)\n",
    "m3 = mfun(m3, model_mnist.fc3.weight)\n",
    "\n",
    "print(m1.shape)\n",
    "\n"
   ]
  },
  {
   "cell_type": "code",
   "execution_count": 87,
   "metadata": {},
   "outputs": [
    {
     "name": "stdout",
     "output_type": "stream",
     "text": [
      "tensor([-0.1890, -0.5867,  0.5877, -0.1414, -0.0527, -0.2899,  0.3277,  0.0784,\n",
      "         0.2266,  0.0545], grad_fn=<DivBackward0>)\n",
      "tensor([-0.5093, 10.7150, -0.0736, -8.4573,  7.4311, -0.9365, -1.6053,  2.1383,\n",
      "        -8.8714, -2.8670], grad_fn=<AddBackward0>)\n",
      "distance\n",
      "tensor(18.7919, grad_fn=<NormBackward1>)\n",
      "tensor(5.0526, grad_fn=<MulBackward0>)\n",
      "cosine similarity\n",
      "tensor(-0.4186, grad_fn=<SumBackward1>)\n"
     ]
    }
   ],
   "source": [
    "lin1 = nn.Linear(in_features = 256, out_features=60,bias=True)\n",
    "lin2 = nn.Linear(in_features = 60, out_features=42,bias=True)\n",
    "lin3 = nn.Linear(in_features = 42, out_features=10,bias=True)\n",
    "\n",
    "lin1.weight = model_mnist.fc1.weight\n",
    "lin2.weight = model_mnist.fc2.weight\n",
    "lin3.weight = model_mnist.fc3.weight\n",
    "\n",
    "x_lin = lin1(random)\n",
    "x_lin = lin2(x_lin)\n",
    "x_lin = lin3(x_lin)\n",
    "norm_xlin = nn.functional.normalize(x_lin, dim=0)\n",
    "print(norm_xlin)\n",
    "print(x_new)\n",
    "ed = torch.pairwise_distance(norm_xlin, x_new)\n",
    "print(\"distance\")\n",
    "print(ed)\n",
    "result = 1/(1 + ed)\n",
    "print(result * 100)\n",
    "print(\"cosine similarity\")\n",
    "print(nn.CosineSimilarity(dim=0)(norm_xlin, x_new))\n",
    "\n"
   ]
  },
  {
   "cell_type": "code",
   "execution_count": 81,
   "metadata": {},
   "outputs": [],
   "source": [
    "lin1 = nn.Linear(in_features = 256, out_features=120,bias=False)\n",
    "lin2 = nn.Linear(in_features = 120, out_features=84,bias=False)\n",
    "lin3 = nn.Linear(in_features = 84, out_features=10,bias=False)\n",
    "\n",
    "lin1.weight = model_mnist.fc1.weight\n",
    "lin2.weight =  model_mnist.fc2.weight\n",
    "lin3.weight =  model_mnist.fc3.weight"
   ]
  },
  {
   "cell_type": "code",
   "execution_count": 82,
   "metadata": {},
   "outputs": [
    {
     "name": "stdout",
     "output_type": "stream",
     "text": [
      "tensor([-0.9922,  1.0499,  1.0739, -2.9549,  1.8736,  0.2282,  0.8645,  0.9884,\n",
      "         0.8530, -2.6438], grad_fn=<MvBackward0>)\n"
     ]
    }
   ],
   "source": [
    "x_lin = lin1(random)\n",
    "x_lin = lin2(x_lin)\n",
    "x_lin = lin3(x_lin)\n",
    "print(x_lin)\n"
   ]
  },
  {
   "cell_type": "markdown",
   "metadata": {},
   "source": [
    "# weight matrix multiplication testing"
   ]
  },
  {
   "cell_type": "code",
   "execution_count": 38,
   "metadata": {},
   "outputs": [
    {
     "name": "stdout",
     "output_type": "stream",
     "text": [
      "torch.Size([40, 256])\n"
     ]
    }
   ],
   "source": [
    "fc_1 = model_mnist.fc1.weight.detach().numpy().T\n",
    "fa =nonlin.Isomap(n_components=60)\n",
    "fc_1_m = fa.fit_transform(fc_1)\n",
    "fc_1_m = torch.tensor(fc_1_m.T,  dtype=torch.float32)\n",
    "print(fc_1_m.shape)\n",
    "\n"
   ]
  },
  {
   "cell_type": "code",
   "execution_count": 29,
   "metadata": {},
   "outputs": [
    {
     "name": "stdout",
     "output_type": "stream",
     "text": [
      "torch.Size([256, 60])\n"
     ]
    }
   ],
   "source": [
    "fc_1_m_new = torch.mm(model_mnist.fc1.weight.T, fc_1_m)\n",
    "print(fc_1_m_new.shape)"
   ]
  },
  {
   "cell_type": "code",
   "execution_count": 39,
   "metadata": {},
   "outputs": [
    {
     "name": "stdout",
     "output_type": "stream",
     "text": [
      "torch.Size([84, 40])\n"
     ]
    }
   ],
   "source": [
    "# fc_2 = nn.functional.relu(model_mnist.fc2.weight)\n",
    "# fc_2_x = torch.mm(new_matrix, model_mnist.fc2.weight.T)\n",
    "# print(fc_2_x.shape)\n",
    "# fc_2 = fc_2_x.detach().numpy()\n",
    "# isomap_ = dec.PCA(n_components=42)\n",
    "# fc_2_reduced_m = isomap_.fit_transform(fc_2)\n",
    "# fc_2_reduced_m = fc_2_reduced_m.T\n",
    "# print('second dimension reduced:')\n",
    "\n",
    "# fc_2_reduced_m = torch.tensor(fc_2_reduced_m, dtype=torch.float32)\n",
    "# print(fc_2_reduced_m.shape)\n",
    "fc_2 = model_mnist.fc2.weight.detach().numpy()\n",
    "fc_2 = fc_2.reshape(84 * 2, -1)\n",
    "isomap_ = nonlin.Isomap(n_components=20)\n",
    "reduced_fc_2 = isomap_.fit_transform(fc_2)\n",
    "reduced_fc_2 = reduced_fc_2.reshape(-1, 20 * 2)\n",
    "reduced_fc_2 = torch.tensor(reduced_fc_2,  dtype=torch.float32)\n",
    "print(reduced_fc_2.shape)\n",
    "\n"
   ]
  },
  {
   "cell_type": "code",
   "execution_count": 45,
   "metadata": {},
   "outputs": [
    {
     "name": "stdout",
     "output_type": "stream",
     "text": [
      "torch.Size([40, 256])\n",
      "tensor([ 0.0655, -0.2840,  0.0715, -0.1201,  0.0106, -0.1545, -0.0709, -0.1225,\n",
      "        -0.2019,  0.0782,  0.1379,  0.0368,  0.1260, -0.1121, -0.0119,  0.0837,\n",
      "        -0.0479, -0.1236,  0.1093, -0.0095, -0.1081,  0.1483, -0.1773, -0.0478,\n",
      "         0.0687, -0.0505,  0.0256,  0.0311, -0.0546,  0.0593, -0.1113,  0.1878,\n",
      "         0.0765, -0.2415, -0.1638, -0.0173,  0.1131,  0.1656,  0.1141, -0.1151,\n",
      "        -0.0329,  0.0527,  0.0702, -0.1108,  0.1315,  0.0657, -0.1342, -0.0222,\n",
      "         0.0230,  0.1309, -0.0738, -0.0666, -0.1203, -0.0908,  0.1100,  0.0595,\n",
      "        -0.0408, -0.0239, -0.0839, -0.0709, -0.0875,  0.0174,  0.1358,  0.1235,\n",
      "         0.0392, -0.1933,  0.0293, -0.1111,  0.0310, -0.0158,  0.0011,  0.1015,\n",
      "         0.0247, -0.1355, -0.1582,  0.0930,  0.0432, -0.0255,  0.0324,  0.1620,\n",
      "        -0.0675,  0.2043, -0.1831, -0.1480], grad_fn=<DivBackward0>)\n",
      "tensor([ 1.5537,  0.9938, -0.3086, -1.5574,  0.6890, -1.6042, -0.0787, -0.3769,\n",
      "         0.2473,  0.8930, -1.4529,  2.5043,  1.4268,  1.8208, -2.9927, -0.3128,\n",
      "         0.9403,  0.8287, -1.9032,  0.5333,  0.5032,  0.0572,  3.1264,  0.2320,\n",
      "        -0.4794,  0.1529,  0.5952,  0.0409, -1.2787,  0.1726,  0.3510,  1.3975,\n",
      "         0.4594,  1.0505, -1.4037, -0.0213, -1.5141, -1.1173, -0.6905,  0.5253,\n",
      "        -1.7230,  1.9080, -0.3423,  0.6918,  0.3148, -0.2690, -0.4372,  1.2339,\n",
      "         1.1926,  1.4155, -0.3247,  0.8195,  0.1512, -0.5880,  2.4696, -0.2934,\n",
      "         0.4278,  1.6573,  1.0997, -0.8235,  1.3252,  0.1205,  1.0216,  1.6571,\n",
      "        -1.1533, -0.8407,  0.0143,  0.1561, -0.7192, -1.5260, -0.3520,  1.5088,\n",
      "         0.1807,  0.1516, -1.9119, -0.5640, -2.9886,  0.2005, -0.2259,  0.8091,\n",
      "         0.7535, -0.9010, -0.7659,  0.1341], grad_fn=<MvBackward0>)\n",
      "tensor(0.9152, grad_fn=<MulBackward0>)\n",
      "tensor(10.6904, grad_fn=<NormBackward1>)\n",
      "tensor(8.5540, grad_fn=<MulBackward0>)\n"
     ]
    }
   ],
   "source": [
    "lin_60 = nn.Linear(256, 40, bias=False)\n",
    "lin_8460 = nn.Linear(40,84, bias=False)\n",
    "\n",
    "lin_60.weight.data = fc_1_m\n",
    "print(fc_1_m.shape)\n",
    "lin_8460.weight.data = reduced_fc_2\n",
    "output = lin_60(random)\n",
    "output = lin_8460(output)\n",
    "output = nn.functional.normalize(output, dim=0)\n",
    "print(output)\n",
    "\n",
    "lin_120 = nn.Linear(256, 120, bias=False)\n",
    "lin_84 = nn.Linear(120,84, bias=False)\n",
    "lin_120.weight.data = model_mnist.fc1.weight\n",
    "lin_84.weight.data = model_mnist.fc2.weight\n",
    "\n",
    "output2 = lin_120(random)\n",
    "output2 = lin_84(output2)\n",
    "\n",
    "\n",
    "print(output2)\n",
    "\n",
    "print(nn.CosineSimilarity(dim=0)(output2, output) * 100)\n",
    "\n",
    "\n",
    "dist = torch.pairwise_distance(output, output2)\n",
    "print(dist)\n",
    "result =1/(1 +dist)\n",
    "print(result *100) \n"
   ]
  },
  {
   "cell_type": "code",
   "execution_count": 11,
   "metadata": {},
   "outputs": [
    {
     "name": "stdout",
     "output_type": "stream",
     "text": [
      "torch.Size([84, 42])\n"
     ]
    }
   ],
   "source": [
    "new_martixfor_fc2 = torch.mm(fc_2_x.T, fc_2_reduced_m.T)\n",
    "print(new_martixfor_fc2.shape)"
   ]
  },
  {
   "cell_type": "code",
   "execution_count": 12,
   "metadata": {},
   "outputs": [
    {
     "name": "stdout",
     "output_type": "stream",
     "text": [
      "torch.Size([10, 42])\n"
     ]
    }
   ],
   "source": [
    "fc_3_new = torch.mm(model_mnist.fc3.weight, new_martixfor_fc2)\n",
    "print(fc_3_new.shape)\n",
    "# fc_3_new = model_mnist.fc3.weight.detach().numpy().T\n",
    "# fc3_Isomap = nonlin.Isomap(n_components=5, n_neighbors=10)\n",
    "# fc_3_new_reduced = fc3_Isomap.fit_transform(fc_3_new)\n",
    "# fc_3_new_reduced = fc_3_new_reduced.reshape(-1, 10)\n",
    "# fc_3_new_reduced = torch.tensor(fc_3_new_reduced.T, dtype=torch.float32)\n",
    "# print(fc_3_new_reduced.shape)\n"
   ]
  },
  {
   "cell_type": "code",
   "execution_count": 13,
   "metadata": {},
   "outputs": [
    {
     "name": "stdout",
     "output_type": "stream",
     "text": [
      "torch.Size([42, 10])\n"
     ]
    }
   ],
   "source": [
    "fc_3_new = torch.mm(fc_3_new, model_mnist.fc3.weight.T)\n",
    "print(fc_3_new.shape)"
   ]
  },
  {
   "cell_type": "code",
   "execution_count": 229,
   "metadata": {},
   "outputs": [
    {
     "name": "stdout",
     "output_type": "stream",
     "text": [
      "torch.Size([60, 84])\n"
     ]
    }
   ],
   "source": [
    "print(fc_2_x.shape)"
   ]
  },
  {
   "cell_type": "code",
   "execution_count": 13,
   "metadata": {},
   "outputs": [],
   "source": [
    "lin1_new = nn.Linear(in_features = 256, out_features=60,bias=True)\n",
    "lin2_new= nn.Linear(in_features = 60, out_features=42,bias=True)\n",
    "lin3_new = nn.Linear(in_features = 42, out_features=10,bias=True)\n",
    "\n",
    "lin1_new.weight = nn.Parameter(fc_1_m)\n",
    "lin2_new.weight = nn.Parameter(fc_2_reduced_m)\n",
    "lin3_new.weight = nn.Parameter(fc_3_new)\n"
   ]
  },
  {
   "cell_type": "code",
   "execution_count": 19,
   "metadata": {},
   "outputs": [],
   "source": [
    "mnist_lin1 = nn.Linear(in_features = 256, out_features=120,bias=True)\n",
    "mnist_lin2 = nn.Linear(in_features = 120, out_features=84,bias=True)\n",
    "mnist_lin3 = nn.Linear(in_features = 84, out_features=10,bias=True)\n",
    "\n",
    "mnist_lin1.weight = model_mnist.fc1.weight\n",
    "mnist_lin2.weight = model_mnist.fc2.weight\n",
    "mnist_lin3.weight = model_mnist.fc3.weight"
   ]
  },
  {
   "cell_type": "code",
   "execution_count": 15,
   "metadata": {},
   "outputs": [
    {
     "name": "stdout",
     "output_type": "stream",
     "text": [
      "torch.Size([42, 60])\n"
     ]
    }
   ],
   "source": [
    "print(lin2_new.weight.shape)\n"
   ]
  },
  {
   "cell_type": "code",
   "execution_count": 21,
   "metadata": {},
   "outputs": [
    {
     "name": "stdout",
     "output_type": "stream",
     "text": [
      "tensor([ 0.2364, -0.1304, -0.2433,  0.1608, -0.5722,  0.4288,  0.2356, -0.3944,\n",
      "         0.3453, -0.0205], grad_fn=<DivBackward0>)\n",
      "tensor([ 0.1291,  0.2988, -0.5994, -0.2388, -0.2318,  0.3710, -0.2537,  0.4554,\n",
      "         0.0404, -0.1135], grad_fn=<DivBackward0>)\n",
      "tensor(1.2903, grad_fn=<NormBackward1>)\n",
      "tensor(43.6633, grad_fn=<MulBackward0>)\n"
     ]
    }
   ],
   "source": [
    "a1 = lin1_new(random)\n",
    "a1 = lin2_new(a1)\n",
    "a1 = lin3_new(a1)\n",
    "a1 = nn.functional.normalize(a1, dim=0)\n",
    "\n",
    "a2 = mnist_lin1(random)\n",
    "a2 = mnist_lin2(a2)\n",
    "a2 = mnist_lin3(a2)\n",
    "a2 = nn.functional.normalize(a2, dim=0)\n",
    "\n",
    "\n",
    "print(a1)\n",
    "print(a2)\n",
    "ed = torch.pairwise_distance(a1, a2)\n",
    "print(ed)\n",
    "result =1/(1 +ed)\n",
    "print(result *100) "
   ]
  }
 ],
 "metadata": {
  "kernelspec": {
   "display_name": "Python 3.9.12 ('base')",
   "language": "python",
   "name": "python3"
  },
  "language_info": {
   "codemirror_mode": {
    "name": "ipython",
    "version": 3
   },
   "file_extension": ".py",
   "mimetype": "text/x-python",
   "name": "python",
   "nbconvert_exporter": "python",
   "pygments_lexer": "ipython3",
   "version": "3.9.12"
  },
  "orig_nbformat": 4,
  "vscode": {
   "interpreter": {
    "hash": "3f8eb618b7b569c23d3b4b5bc22124c155d58b9880b777276332025b24a4c4f7"
   }
  }
 },
 "nbformat": 4,
 "nbformat_minor": 2
}
