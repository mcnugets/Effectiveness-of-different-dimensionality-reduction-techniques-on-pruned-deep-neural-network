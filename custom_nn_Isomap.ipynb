{
 "cells": [
  {
   "cell_type": "code",
   "execution_count": 2,
   "metadata": {},
   "outputs": [],
   "source": [
    "import os\n",
    "import torch\n",
    "import torch.nn as nn\n",
    "import torch.nn.functional as F\n",
    "from torch.utils.data import DataLoader\n",
    "from torchvision import datasets, transforms\n",
    "import sklearn as sk\n",
    "from sklearn import decomposition as dec\n",
    "import torch\n",
    "import torchvision\n",
    "import torchvision.transforms as transforms\n",
    "import matplotlib.pyplot as plt\n",
    "import numpy as np\n",
    "import torch.nn.utils.prune as prune\n",
    "import  sklearn.manifold as nonlin\n"
   ]
  },
  {
   "cell_type": "code",
   "execution_count": 56,
   "metadata": {},
   "outputs": [
    {
     "name": "stdout",
     "output_type": "stream",
     "text": [
      "Files already downloaded and verified\n",
      "Files already downloaded and verified\n"
     ]
    }
   ],
   "source": [
    "transform = transforms.Compose(\n",
    "    [transforms.ToTensor(),\n",
    "     transforms.Normalize((0.5), (0.5))])\n",
    "\n",
    "batch_size = 4\n",
    "\n",
    "trainset = torchvision.datasets.CIFAR10(root='./data', train=True,\n",
    "                                        download=True, transform=transform)\n",
    "\n",
    "\n",
    "trainloader = torch.utils.data.DataLoader(trainset, batch_size=batch_size,\n",
    "                                          shuffle=True, num_workers=2)\n",
    "\n",
    "testset = torchvision.datasets.CIFAR10(root='./data', train=False,\n",
    "                                       download=True, transform=transform)\n",
    "testloader = torch.utils.data.DataLoader(testset, batch_size=batch_size,\n",
    "                                         shuffle=False, num_workers=2)\n",
    "\n",
    "classes = ('plane', 'car', 'bird', 'cat',\n",
    "           'deer', 'dog', 'frog', 'horse', 'ship', 'truck')\n",
    "\n",
    "mnist_train = torchvision.datasets.MNIST(root='./data', train=True,\n",
    "                                        download=True, transform=transform)\n",
    "mnist_test = torchvision.datasets.MNIST(root='./data', train=False,\n",
    "                                       download=True, transform=transform)\n",
    "\n",
    "trainloader_mnist =  torch.utils.data.DataLoader(mnist_train, batch_size=batch_size,\n",
    "                                          shuffle=True, num_workers=2)\n",
    "testloader_mnist =  torch.utils.data.DataLoader(mnist_test, batch_size=batch_size,\n",
    "                                          shuffle=True, num_workers=2)\n",
    "\n",
    "\n",
    "\n",
    "                                        \n"
   ]
  },
  {
   "cell_type": "code",
   "execution_count": 57,
   "metadata": {},
   "outputs": [],
   "source": [
    "class NN(nn.Module):\n",
    "    def __init__(self):\n",
    "        super().__init__()\n",
    "        self.conv1 = nn.Conv2d(\n",
    "            in_channels=1, out_channels=12, kernel_size=(5, 5))\n",
    "        self.pool = nn.MaxPool2d(kernel_size=(2), stride=2)\n",
    "        self.conv2 = nn.Conv2d(\n",
    "            in_channels=12, out_channels=16, kernel_size=(5, 5))\n",
    "        self.fc1 = nn.Linear(256, 120)\n",
    "        self.fc2 = nn.Linear(120, 84)\n",
    "        self.fc3 = nn.Linear(84, 10)\n",
    "\n",
    "        # self.conv1 = nn.Conv2d(3, 6, 5)\n",
    "        # self.pool = nn.MaxPool2d(2, 2)\n",
    "        # self.conv2 = nn.Conv2d(6, 16, 5)\n",
    "        # self.fc1 = nn.Linear(16 * 5 * 5, 120)\n",
    "        # self.fc2 = nn.Linear(120, 84)\n",
    "        # self.fc3 = nn.Linear(84, 10)\n",
    "\n",
    "    def forward(self, x):\n",
    "        x = self.pool(F.relu(self.conv1(x)))\n",
    "        x = self.pool(F.relu(self.conv2(x)))\n",
    "        x = torch.flatten(x, 1)  # flatten all dimensions except batch\n",
    "        x = F.relu(self.fc1(x))\n",
    "        x = F.relu(self.fc2(x))\n",
    "        x = self.fc3(x)\n",
    "        return x\n"
   ]
  },
  {
   "cell_type": "code",
   "execution_count": 36,
   "metadata": {},
   "outputs": [
    {
     "data": {
      "text/plain": [
       "NN(\n",
       "  (conv1): Conv2d(3, 12, kernel_size=(5, 5), stride=(1, 1))\n",
       "  (pool): MaxPool2d(kernel_size=(2, 2), stride=2, padding=0, dilation=1, ceil_mode=False)\n",
       "  (conv2): Conv2d(12, 16, kernel_size=(5, 5), stride=(1, 1))\n",
       "  (fc1): Linear(in_features=400, out_features=120, bias=True)\n",
       "  (fc2): Linear(in_features=120, out_features=84, bias=True)\n",
       "  (fc3): Linear(in_features=84, out_features=10, bias=True)\n",
       ")"
      ]
     },
     "execution_count": 36,
     "metadata": {},
     "output_type": "execute_result"
    }
   ],
   "source": [
    "path = './cifar_net.pt'\n",
    "model = nn.Module()\n",
    "model = torch.load(path)\n",
    "model.eval()"
   ]
  },
  {
   "cell_type": "code",
   "execution_count": 99,
   "metadata": {},
   "outputs": [
    {
     "data": {
      "text/plain": [
       "NN(\n",
       "  (conv1): Conv2d(1, 12, kernel_size=(5, 5), stride=(1, 1))\n",
       "  (pool): MaxPool2d(kernel_size=2, stride=2, padding=0, dilation=1, ceil_mode=False)\n",
       "  (conv2): Conv2d(12, 16, kernel_size=(5, 5), stride=(1, 1))\n",
       "  (fc1): Linear(in_features=256, out_features=120, bias=True)\n",
       "  (fc2): Linear(in_features=120, out_features=84, bias=True)\n",
       "  (fc3): Linear(in_features=84, out_features=10, bias=True)\n",
       ")"
      ]
     },
     "execution_count": 99,
     "metadata": {},
     "output_type": "execute_result"
    }
   ],
   "source": [
    "path_mnist = './custom_nn_mnist.pt'\n",
    "model_mnist = torch.load(path_mnist)\n",
    "model_mnist.eval()\n"
   ]
  },
  {
   "cell_type": "code",
   "execution_count": 100,
   "metadata": {},
   "outputs": [
    {
     "name": "stdout",
     "output_type": "stream",
     "text": [
      "torch.Size([60, 256])\n"
     ]
    }
   ],
   "source": [
    "fc_1 = model_mnist.fc1.weight.detach().numpy().T\n",
    "fa = nonlin.Isomap(n_components=60)\n",
    "fc_1_reduced = fa.fit_transform(fc_1)\n",
    "fc_1_reduced = torch.tensor(fc_1_reduced.T,  dtype=torch.float32)\n",
    "print(fc_1_reduced.shape)\n"
   ]
  },
  {
   "cell_type": "code",
   "execution_count": 101,
   "metadata": {},
   "outputs": [
    {
     "name": "stdout",
     "output_type": "stream",
     "text": [
      "one dimension reduced:\n",
      "(84, 60)\n",
      "second dimension reduced:\n",
      "torch.Size([42, 60])\n"
     ]
    }
   ],
   "source": [
    "# fc_2 = nn.functional.relu(model_mnist.fc2.weight)\n",
    "fc_2 = model_mnist.fc2.weight.detach().numpy()\n",
    "fc_2 = fc_2.reshape(fc_2.shape[0]*2, -1)\n",
    "fa_input = nonlin.Isomap(n_components=30)\n",
    "fc_2_reduced =fa_input.fit_transform(fc_2)\n",
    "print('one dimension reduced:')\n",
    "fc_2_reduced = fc_2_reduced.reshape(-1, fc_2_reduced.shape[1] * 2)\n",
    "print(fc_2_reduced.shape)\n",
    "fc_2_reduced = fc_2_reduced.reshape(42, -1)\n",
    "fa_ouput = nonlin.Isomap(n_components=21)\n",
    "fc_2_reduced = fa_ouput.fit_transform(fc_2_reduced.T)\n",
    "fc_2_reduced = fc_2_reduced.reshape(-1, fc_2_reduced.shape[1] * 2)\n",
    "fc_2_reduced = fc_2_reduced.T\n",
    "print('second dimension reduced:')\n",
    "\n",
    "fc_2_reduced = torch.tensor(fc_2_reduced, dtype=torch.float32)\n",
    "print(fc_2_reduced.shape)\n",
    "\n"
   ]
  },
  {
   "cell_type": "code",
   "execution_count": 102,
   "metadata": {},
   "outputs": [
    {
     "name": "stdout",
     "output_type": "stream",
     "text": [
      "torch.Size([10, 42])\n"
     ]
    }
   ],
   "source": [
    "fc_3 =  model_mnist.fc3.weight.detach().numpy().T\n",
    "fc3_Isomap = nonlin.Isomap(n_components=5, n_neighbors=5)\n",
    "fc_3_reduced = fc3_Isomap.fit_transform(fc_3)\n",
    "fc_3_reduced = fc_3_reduced.reshape(-1, 10)\n",
    "fc_3_reduced = torch.tensor(fc_3_reduced.T, dtype=torch.float32)\n",
    "print(fc_3_reduced.shape)\n"
   ]
  },
  {
   "cell_type": "code",
   "execution_count": 106,
   "metadata": {},
   "outputs": [],
   "source": [
    "model_mnist.fc1 = nn.Linear(256, 60,bias=True)\n",
    "model_mnist.fc2 = nn.Linear(60, 42,bias=True)\n",
    "model_mnist.fc3 = nn.Linear(42, 10,bias=True)\n",
    "\n",
    "model_mnist.fc1.weight = nn.Parameter(fc_1_reduced)\n",
    "model_mnist.fc2.weight = nn.Parameter(fc_2_reduced)\n",
    "model_mnist.fc3.weight = nn.Parameter(fc_3_reduced)\n"
   ]
  },
  {
   "cell_type": "code",
   "execution_count": 107,
   "metadata": {},
   "outputs": [
    {
     "name": "stdout",
     "output_type": "stream",
     "text": [
      "average acc: 71.93\n"
     ]
    }
   ],
   "source": [
    "total = 0\n",
    "acc=0\n",
    "correct = 0\n",
    "for data in testloader_mnist:\n",
    "    pics, lables = data\n",
    "    output = model_mnist(pics)\n",
    "    _, pred = torch.max(output.data, 1)\n",
    "    correct += (pred == lables).sum().item()\n",
    "    total += lables.size(0)\n",
    "\n",
    "print('average acc:', 100 * correct/ total)\n",
    "\n"
   ]
  },
  {
   "cell_type": "code",
   "execution_count": 110,
   "metadata": {},
   "outputs": [
    {
     "name": "stdout",
     "output_type": "stream",
     "text": [
      "SGD (\n",
      "Parameter Group 0\n",
      "    dampening: 0\n",
      "    foreach: None\n",
      "    lr: 0.001\n",
      "    maximize: False\n",
      "    momentum: 0.9\n",
      "    nesterov: False\n",
      "    weight_decay: 0\n",
      ")\n",
      "epoch: 0\n"
     ]
    },
    {
     "name": "stderr",
     "output_type": "stream",
     "text": [
      "c:\\Users\\sulta\\anaconda3\\lib\\site-packages\\torch\\autograd\\profiler.py:160: UserWarning: CUDA is not available, disabling CUDA profiling\n",
      "  warn(\"CUDA is not available, disabling CUDA profiling\")\n"
     ]
    },
    {
     "name": "stdout",
     "output_type": "stream",
     "text": [
      "[1,  2000] loss: 0.463 acc: 86.075\n",
      "[1,  4000] loss: 0.242 acc: 93.037\n",
      "[1,  6000] loss: 0.193 acc: 94.325\n",
      "[1,  8000] loss: 0.170 acc: 94.850\n",
      "[1, 10000] loss: 0.127 acc: 96.013\n",
      "[1, 12000] loss: 0.132 acc: 95.950\n",
      "[1, 14000] loss: 0.121 acc: 96.525\n",
      "epoch: 1\n",
      "[2,  2000] loss: 0.166 acc: 96.575\n",
      "[2,  4000] loss: 0.099 acc: 96.925\n",
      "[2,  6000] loss: 0.094 acc: 97.162\n",
      "[2,  8000] loss: 0.099 acc: 97.175\n",
      "[2, 10000] loss: 0.084 acc: 97.525\n",
      "[2, 12000] loss: 0.088 acc: 97.375\n",
      "[2, 14000] loss: 0.094 acc: 97.312\n",
      "epoch: 2\n",
      "[3,  2000] loss: 0.130 acc: 97.417\n",
      "[3,  4000] loss: 0.082 acc: 97.600\n",
      "[3,  6000] loss: 0.070 acc: 97.725\n",
      "[3,  8000] loss: 0.076 acc: 97.662\n",
      "[3, 10000] loss: 0.080 acc: 97.650\n",
      "[3, 12000] loss: 0.065 acc: 98.100\n",
      "[3, 14000] loss: 0.079 acc: 97.800\n",
      "epoch: 3\n",
      "[4,  2000] loss: 0.098 acc: 97.850\n",
      "[4,  4000] loss: 0.066 acc: 98.025\n",
      "[4,  6000] loss: 0.073 acc: 97.850\n",
      "[4,  8000] loss: 0.063 acc: 98.237\n",
      "[4, 10000] loss: 0.068 acc: 98.150\n",
      "[4, 12000] loss: 0.064 acc: 98.062\n",
      "[4, 14000] loss: 0.064 acc: 98.225\n",
      "epoch: 4\n",
      "[5,  2000] loss: 0.088 acc: 98.150\n",
      "[5,  4000] loss: 0.048 acc: 98.475\n",
      "[5,  6000] loss: 0.054 acc: 98.525\n",
      "[5,  8000] loss: 0.058 acc: 98.487\n",
      "[5, 10000] loss: 0.054 acc: 98.350\n",
      "[5, 12000] loss: 0.065 acc: 98.037\n",
      "[5, 14000] loss: 0.056 acc: 98.287\n",
      "Finished Training\n"
     ]
    }
   ],
   "source": [
    "from torch.profiler import profile, record_function, ProfilerActivity\n",
    "import torch.optim as optim\n",
    "running_loss = 0.0\n",
    "total = 0.0\n",
    "correct = 0.0\n",
    "loss_nodr =[]\n",
    "acc_nodr = []\n",
    "device = torch.device('cuda:0' if torch.cuda.is_available() else 'cpu')\n",
    "\n",
    "\n",
    "criterion = nn.CrossEntropyLoss()\n",
    "optimizer = optim.SGD(model_mnist.parameters(), lr=0.001, momentum=0.9)\n",
    "\n",
    "print(optimizer)\n",
    "\n",
    "\n",
    "\n",
    "\n",
    "for epoch in range(5):\n",
    "    \n",
    "    print('epoch:', epoch)\n",
    "    for i, data in enumerate(trainloader_mnist):\n",
    "        \n",
    "        inputs, labels = data\n",
    "        inputs = inputs.to(device)\n",
    "        labels = labels.to(device)\n",
    "\n",
    "        optimizer.zero_grad(True)\n",
    "        with torch.set_grad_enabled(True):\n",
    "            with profile(activities=[ProfilerActivity.CPU, ProfilerActivity.CUDA]) as prof:\n",
    "             outputs = model_mnist(inputs).to(device)\n",
    "            loss = criterion(outputs, labels)\n",
    "            loss.backward()\n",
    "            optimizer.step()\n",
    "            _, predicted = torch.max(outputs.data, 1)\n",
    "            total += labels.size(0)\n",
    "            correct += (predicted == labels).sum().item()\n",
    "\n",
    "        running_loss += loss.item()\n",
    "        if i % 2000 == 1999:\n",
    "            loss_temp = running_loss / 2000\n",
    "            acc_temp = 100 * correct / total\n",
    "            loss_nodr.append(loss_temp)\n",
    "            acc_nodr.append(acc_temp)\n",
    "            print(\n",
    "                f'[{epoch + 1}, {i + 1:5d}] loss: {loss_temp:.3f} acc: {acc_temp:.3f}')\n",
    "            running_loss = 0.0\n",
    "            correct = 0.0\n",
    "            total = 0.0\n",
    "print('Finished Training')\n"
   ]
  },
  {
   "cell_type": "code",
   "execution_count": 71,
   "metadata": {},
   "outputs": [],
   "source": [
    "path = './custom_nn_mnist.pt'\n",
    "torch.save(model_mnist, path)"
   ]
  },
  {
   "cell_type": "code",
   "execution_count": 112,
   "metadata": {},
   "outputs": [],
   "source": [
    "path ='./custom_nn_mnist_isomap.pt'\n",
    "torch.save(model_mnist, path)"
   ]
  }
 ],
 "metadata": {
  "kernelspec": {
   "display_name": "Python 3.9.12 ('base')",
   "language": "python",
   "name": "python3"
  },
  "language_info": {
   "codemirror_mode": {
    "name": "ipython",
    "version": 3
   },
   "file_extension": ".py",
   "mimetype": "text/x-python",
   "name": "python",
   "nbconvert_exporter": "python",
   "pygments_lexer": "ipython3",
   "version": "3.9.12"
  },
  "orig_nbformat": 4,
  "vscode": {
   "interpreter": {
    "hash": "3f8eb618b7b569c23d3b4b5bc22124c155d58b9880b777276332025b24a4c4f7"
   }
  }
 },
 "nbformat": 4,
 "nbformat_minor": 2
}
