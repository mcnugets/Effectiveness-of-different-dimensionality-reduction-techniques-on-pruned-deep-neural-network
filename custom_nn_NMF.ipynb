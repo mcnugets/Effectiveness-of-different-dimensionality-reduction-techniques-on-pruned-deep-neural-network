{
 "cells": [
  {
   "cell_type": "code",
   "execution_count": 75,
   "metadata": {},
   "outputs": [],
   "source": [
    "import os\n",
    "import torch\n",
    "import torch.nn as nn\n",
    "import torch.nn.functional as F\n",
    "from torch.utils.data import DataLoader\n",
    "from torchvision import datasets, transforms\n",
    "import sklearn as sk\n",
    "from sklearn import decomposition as dec\n",
    "import torch\n",
    "import torchvision\n",
    "import torchvision.transforms as transforms\n",
    "import matplotlib.pyplot as plt\n",
    "import numpy as np\n",
    "import torch.nn.utils.prune as prune"
   ]
  },
  {
   "cell_type": "code",
   "execution_count": 80,
   "metadata": {},
   "outputs": [
    {
     "name": "stdout",
     "output_type": "stream",
     "text": [
      "Files already downloaded and verified\n",
      "Files already downloaded and verified\n"
     ]
    }
   ],
   "source": [
    "transform = transforms.Compose(\n",
    "    [transforms.ToTensor(),\n",
    "     transforms.Normalize((0.5, 0.5, 0.5), (0.5, 0.5, 0.5))])\n",
    "\n",
    "batch_size = 4\n",
    "\n",
    "trainset = torchvision.datasets.CIFAR10(root='./data', train=True,\n",
    "                                        download=True, transform=transform)\n",
    "\n",
    "\n",
    "trainloader = torch.utils.data.DataLoader(trainset, batch_size=batch_size,\n",
    "                                          shuffle=True, num_workers=2)\n",
    "\n",
    "testset = torchvision.datasets.CIFAR10(root='./data', train=False,\n",
    "                                       download=True, transform=transform)\n",
    "testloader = torch.utils.data.DataLoader(testset, batch_size=batch_size,\n",
    "                                         shuffle=False, num_workers=2)\n",
    "\n",
    "classes = ('plane', 'car', 'bird', 'cat',\n",
    "           'deer', 'dog', 'frog', 'horse', 'ship', 'truck')\n"
   ]
  },
  {
   "cell_type": "code",
   "execution_count": 81,
   "metadata": {},
   "outputs": [],
   "source": [
    "class NN(nn.Module):\n",
    "    def __init__(self):\n",
    "        super().__init__()\n",
    "        self.conv1 = nn.Conv2d(\n",
    "            in_channels=3, out_channels=12, kernel_size=(5, 5))\n",
    "        self.pool = nn.MaxPool2d(kernel_size=(2, 2), stride=2)\n",
    "        self.conv2 = nn.Conv2d(\n",
    "            in_channels=12, out_channels=16, kernel_size=(5, 5))\n",
    "        self.fc1 = nn.Linear(16*5*5, 120)\n",
    "        self.fc2 = nn.Linear(120, 84)\n",
    "        self.fc3 = nn.Linear(84, 10)\n",
    "\n",
    "        # self.conv1 = nn.Conv2d(3, 6, 5)\n",
    "        # self.pool = nn.MaxPool2d(2, 2)\n",
    "        # self.conv2 = nn.Conv2d(6, 16, 5)\n",
    "        # self.fc1 = nn.Linear(16 * 5 * 5, 120)\n",
    "        # self.fc2 = nn.Linear(120, 84)\n",
    "        # self.fc3 = nn.Linear(84, 10)\n",
    "\n",
    "    def forward(self, x):\n",
    "        x = self.pool(F.relu(self.conv1(x)))\n",
    "        x = self.pool(F.relu(self.conv2(x)))\n",
    "        x = torch.flatten(x, 1)  # flatten all dimensions except batch\n",
    "        x = F.relu(self.fc1(x))\n",
    "        x = F.relu(self.fc2(x))\n",
    "        x = self.fc3(x)\n",
    "        return x\n"
   ]
  },
  {
   "cell_type": "code",
   "execution_count": 82,
   "metadata": {},
   "outputs": [
    {
     "data": {
      "text/plain": [
       "NN(\n",
       "  (conv1): Conv2d(3, 12, kernel_size=(5, 5), stride=(1, 1))\n",
       "  (pool): MaxPool2d(kernel_size=(2, 2), stride=2, padding=0, dilation=1, ceil_mode=False)\n",
       "  (conv2): Conv2d(12, 16, kernel_size=(5, 5), stride=(1, 1))\n",
       "  (fc1): Linear(in_features=400, out_features=120, bias=True)\n",
       "  (fc2): Linear(in_features=120, out_features=84, bias=True)\n",
       "  (fc3): Linear(in_features=84, out_features=10, bias=True)\n",
       ")"
      ]
     },
     "execution_count": 82,
     "metadata": {},
     "output_type": "execute_result"
    }
   ],
   "source": [
    "path = './cifar_net.pt'\n",
    "model = NN()\n",
    "model.load_state_dict(torch.load(path))\n",
    "\n",
    "model.eval()"
   ]
  },
  {
   "cell_type": "code",
   "execution_count": 83,
   "metadata": {},
   "outputs": [
    {
     "name": "stdout",
     "output_type": "stream",
     "text": [
      "OrderedDict([(8, <torch.nn.utils.prune.RandomUnstructured object at 0x0000015D000679A0>)])\n"
     ]
    }
   ],
   "source": [
    "#pruning \n",
    "\n",
    "prune.random_unstructured(model.fc1, name='weight', amount=0.5)\n",
    "print(model.fc1._forward_pre_hooks)\n"
   ]
  },
  {
   "cell_type": "code",
   "execution_count": 84,
   "metadata": {},
   "outputs": [
    {
     "name": "stdout",
     "output_type": "stream",
     "text": [
      "tensor([[ 0.4647, -0.8140, -0.5935,  2.1472, -0.4027,  1.0611, -0.2714, -0.9863,\n",
      "          0.3386, -0.6738],\n",
      "        [ 2.9563,  3.4883,  0.2924, -1.5808, -1.5086, -2.9230, -2.0223, -4.0567,\n",
      "          3.8015,  0.1930],\n",
      "        [ 4.2275, -0.2214,  1.1828,  0.4962, -0.2673, -1.1644, -3.1107, -2.9174,\n",
      "          1.4882, -0.2510],\n",
      "        [ 5.0329,  1.6930,  0.1772, -0.7826, -0.4201, -2.7751, -2.9997, -3.6510,\n",
      "          2.9027,  0.7673]], grad_fn=<AddmmBackward0>)\n",
      "tensor([3, 8, 0, 0])\n"
     ]
    }
   ],
   "source": [
    "datasample = iter(testloader)\n",
    "img, lbl = datasample.next()\n",
    "output = model(img)\n",
    "\n",
    "print(output)\n",
    "acc, pred = torch.max(output, dim=1)\n",
    "print(pred)"
   ]
  },
  {
   "cell_type": "code",
   "execution_count": 80,
   "metadata": {},
   "outputs": [
    {
     "name": "stdout",
     "output_type": "stream",
     "text": [
      "done!!\n"
     ]
    }
   ],
   "source": [
    "fc_1 = model.fc1.weight.detach().numpy().T\n",
    "\n",
    "\n",
    "new_nmf = dec.NMF(n_components=60, init='random', random_state=42)\n",
    "fc_1_reduced = new_nmf.fit_transform(fc_1)\n"
   ]
  },
  {
   "cell_type": "code",
   "execution_count": 87,
   "metadata": {},
   "outputs": [
    {
     "name": "stdout",
     "output_type": "stream",
     "text": [
      "torch.Size([120, 400])\n"
     ]
    }
   ],
   "source": [
    "model.fc1.weight = nn.Parameter(torch.tensor(fc_1.T))\n",
    "print(model.fc1.wei.shape)"
   ]
  },
  {
   "cell_type": "code",
   "execution_count": 96,
   "metadata": {},
   "outputs": [
    {
     "name": "stdout",
     "output_type": "stream",
     "text": [
      "SGD (\n",
      "Parameter Group 0\n",
      "    dampening: 0\n",
      "    foreach: None\n",
      "    lr: 0.001\n",
      "    maximize: False\n",
      "    momentum: 0.9\n",
      "    nesterov: False\n",
      "    weight_decay: 0\n",
      ")\n",
      "epoch: 0\n"
     ]
    },
    {
     "name": "stderr",
     "output_type": "stream",
     "text": [
      "c:\\Users\\sulta\\anaconda3\\lib\\site-packages\\torch\\autograd\\profiler.py:160: UserWarning: CUDA is not available, disabling CUDA profiling\n",
      "  warn(\"CUDA is not available, disabling CUDA profiling\")\n"
     ]
    },
    {
     "name": "stdout",
     "output_type": "stream",
     "text": [
      "[1,  2000] loss: 0.706 acc: 74.537\n",
      "[1,  4000] loss: 0.719 acc: 74.525\n",
      "[1,  6000] loss: 0.730 acc: 73.425\n",
      "[1,  8000] loss: 0.763 acc: 72.787\n",
      "[1, 10000] loss: 0.770 acc: 72.775\n",
      "[1, 12000] loss: 0.778 acc: 72.812\n",
      "epoch: 1\n",
      "[2,  2000] loss: 0.849 acc: 75.910\n",
      "[2,  4000] loss: 0.703 acc: 75.362\n",
      "[2,  6000] loss: 0.716 acc: 74.800\n",
      "[2,  8000] loss: 0.756 acc: 73.513\n",
      "[2, 10000] loss: 0.746 acc: 73.737\n",
      "[2, 12000] loss: 0.758 acc: 73.100\n",
      "epoch: 2\n",
      "[3,  2000] loss: 0.839 acc: 75.900\n",
      "[3,  4000] loss: 0.689 acc: 75.325\n",
      "[3,  6000] loss: 0.702 acc: 75.188\n",
      "[3,  8000] loss: 0.728 acc: 74.025\n",
      "[3, 10000] loss: 0.731 acc: 74.400\n",
      "[3, 12000] loss: 0.746 acc: 73.800\n",
      "epoch: 3\n",
      "[4,  2000] loss: 0.831 acc: 76.480\n",
      "[4,  4000] loss: 0.673 acc: 75.938\n",
      "[4,  6000] loss: 0.687 acc: 75.412\n",
      "[4,  8000] loss: 0.716 acc: 74.300\n",
      "[4, 10000] loss: 0.705 acc: 75.312\n",
      "[4, 12000] loss: 0.728 acc: 74.088\n",
      "epoch: 4\n",
      "[5,  2000] loss: 0.809 acc: 77.430\n",
      "[5,  4000] loss: 0.665 acc: 76.312\n",
      "[5,  6000] loss: 0.666 acc: 76.550\n",
      "[5,  8000] loss: 0.692 acc: 75.400\n",
      "[5, 10000] loss: 0.723 acc: 74.037\n",
      "[5, 12000] loss: 0.702 acc: 75.112\n",
      "Finished Training\n"
     ]
    }
   ],
   "source": [
    "from torch.profiler import profile, record_function, ProfilerActivity\n",
    "import torch.optim as optim\n",
    "\n",
    "criterion = nn.CrossEntropyLoss()\n",
    "optimizer = optim.SGD(model.parameters(), lr=0.001, momentum=0.9)\n",
    "\n",
    "print(optimizer)\n",
    "\n",
    "running_loss = 0.0\n",
    "total = 0.0\n",
    "correct = 0.0\n",
    "loss_nodr =[]\n",
    "acc_nodr = []\n",
    "device = torch.device('cuda:0' if torch.cuda.is_available() else 'cpu')\n",
    "\n",
    "for epoch in range(5):\n",
    "    \n",
    "    print('epoch:', epoch)\n",
    "    for i, data in enumerate(trainloader):\n",
    "        inputs, labels = data\n",
    "        inputs = inputs.to(device)\n",
    "        labels = labels.to(device)\n",
    "\n",
    "        optimizer.zero_grad(True)\n",
    "        with torch.set_grad_enabled(True):\n",
    "            with profile(activities=[ProfilerActivity.CPU, ProfilerActivity.CUDA]) as prof:\n",
    "             outputs = model(inputs).to(device)\n",
    "            loss = criterion(outputs, labels)\n",
    "            loss.backward()\n",
    "            optimizer.step()\n",
    "            _, predicted = torch.max(outputs.data, 1)\n",
    "            total += labels.size(0)\n",
    "            correct += (predicted == labels).sum().item()\n",
    "\n",
    "        running_loss += loss.item()\n",
    "        if i % 2000 == 1999:\n",
    "            loss_temp = running_loss / 2000\n",
    "            acc_temp = 100 * correct / total\n",
    "            loss_nodr.append(loss_temp)\n",
    "            acc_nodr.append(acc_temp)\n",
    "            print(\n",
    "                f'[{epoch + 1}, {i + 1:5d}] loss: {loss_temp:.3f} acc: {acc_temp:.3f}')\n",
    "            running_loss = 0.0\n",
    "            correct = 0.0\n",
    "            total = 0.0\n",
    "print('Finished Training')\n"
   ]
  },
  {
   "cell_type": "code",
   "execution_count": 97,
   "metadata": {},
   "outputs": [
    {
     "name": "stdout",
     "output_type": "stream",
     "text": [
      "tensor([[ 0.3503,  0.0000,  0.0000,  ...,  0.0343,  0.1725, -0.2020],\n",
      "        [ 0.3041, -0.0000, -0.1218,  ...,  0.1513,  0.0000, -0.0000],\n",
      "        [-0.0000, -0.0000, -0.2168,  ..., -0.2211, -0.0000, -0.0336],\n",
      "        ...,\n",
      "        [ 0.0786, -0.2009,  0.0000,  ...,  0.0000, -0.1257,  0.2552],\n",
      "        [ 0.0000, -0.0000, -0.0000,  ...,  0.0329, -0.0000,  0.0000],\n",
      "        [-0.4160, -0.5303, -0.0000,  ...,  0.0000,  0.1677,  0.1846]],\n",
      "       grad_fn=<MulBackward0>)\n"
     ]
    }
   ],
   "source": [
    "print(model.fc1.weight)"
   ]
  },
  {
   "cell_type": "code",
   "execution_count": 92,
   "metadata": {},
   "outputs": [
    {
     "name": "stdout",
     "output_type": "stream",
     "text": [
      "[0.34771964 0.28580782 0.         0.         0.         0.\n",
      " 0.         0.         0.         0.         0.         0.\n",
      " 0.         0.         0.09259516 0.         0.         0.\n",
      " 0.04895765 0.21041448 0.31263116 0.         0.         0.\n",
      " 0.         0.         0.         0.         0.         0.\n",
      " 0.1393346  0.         0.         0.2647249  0.         0.\n",
      " 0.         0.         0.         0.         0.         0.\n",
      " 0.28365788 0.         0.07291234 0.         0.         0.\n",
      " 0.         0.         0.         0.         0.         0.\n",
      " 0.09790394 0.         0.         0.         0.         0.\n",
      " 0.         0.         0.01413102 0.         0.         0.\n",
      " 0.         0.04597853 0.         0.         0.07514965 0.\n",
      " 0.04118858 0.         0.06643911 0.         0.         0.\n",
      " 0.         0.         0.         0.         0.         0.\n",
      " 0.04860302 0.         0.09110495 0.         0.         0.\n",
      " 0.         0.         0.         0.         0.         0.\n",
      " 0.         0.05913865 0.24707364 0.         0.         0.\n",
      " 0.         0.16396366 0.         0.         0.         0.\n",
      " 0.         0.17907868 0.         0.         0.         0.\n",
      " 0.10092235 0.         0.         0.05657718 0.         0.        ]\n"
     ]
    }
   ],
   "source": [
    "fc_1 = model.fc1.weight.detach().numpy().T\n",
    "\n",
    "for a in range(fc_1.shape[0]):\n",
    "    for b in range(fc_1.shape[1]):\n",
    "        if(fc_1[a][b]<=0): fc_1[a][b] = abs(0.0)\n",
    "        \n",
    "\n",
    "\n",
    "\n",
    "# new_nmf = dec.NMF(n_components=60, init='random', random_state=42)\n",
    "# fc_1_reduced = new_nmf.fit_transform(fc_1)\n"
   ]
  }
 ],
 "metadata": {
  "kernelspec": {
   "display_name": "Python 3.9.12 ('base')",
   "language": "python",
   "name": "python3"
  },
  "language_info": {
   "codemirror_mode": {
    "name": "ipython",
    "version": 3
   },
   "file_extension": ".py",
   "mimetype": "text/x-python",
   "name": "python",
   "nbconvert_exporter": "python",
   "pygments_lexer": "ipython3",
   "version": "3.9.12"
  },
  "orig_nbformat": 4,
  "vscode": {
   "interpreter": {
    "hash": "3f8eb618b7b569c23d3b4b5bc22124c155d58b9880b777276332025b24a4c4f7"
   }
  }
 },
 "nbformat": 4,
 "nbformat_minor": 2
}
