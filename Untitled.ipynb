{
 "cells": [
  {
   "cell_type": "markdown",
   "id": "620300dd",
   "metadata": {},
   "source": [
    "# **Effectiveness of different dimensionality reduction techniques on pruned deep neural network**."
   ]
  },
  {
   "cell_type": "markdown",
   "id": "e0c95fae",
   "metadata": {},
   "source": [
    "### First we import relevant python libraries"
   ]
  },
  {
   "cell_type": "code",
   "execution_count": null,
   "id": "b7ec55a0",
   "metadata": {},
   "outputs": [],
   "source": [
    "import matplotlib as mat\n",
    "import sklearn\n"
   ]
  }
 ],
 "metadata": {
  "kernelspec": {
   "display_name": "Python 3 (ipykernel)",
   "language": "python",
   "name": "python3"
  },
  "language_info": {
   "codemirror_mode": {
    "name": "ipython",
    "version": 3
   },
   "file_extension": ".py",
   "mimetype": "text/x-python",
   "name": "python",
   "nbconvert_exporter": "python",
   "pygments_lexer": "ipython3",
   "version": "3.9.12"
  }
 },
 "nbformat": 4,
 "nbformat_minor": 5
}
